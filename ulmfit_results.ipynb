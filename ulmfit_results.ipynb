{
  "nbformat": 4,
  "nbformat_minor": 0,
  "metadata": {
    "colab": {
      "name": "ulmfit-results.ipynb",
      "version": "0.3.2",
      "provenance": [],
      "collapsed_sections": []
    },
    "kernelspec": {
      "name": "python3",
      "display_name": "Python 3"
    },
    "accelerator": "GPU"
  },
  "cells": [
    {
      "cell_type": "markdown",
      "metadata": {
        "id": "05K3_EAHUJwD",
        "colab_type": "text"
      },
      "source": [
        "## ULMFiT Results and Analysis"
      ]
    },
    {
      "cell_type": "markdown",
      "metadata": {
        "id": "MBslzrlAXIH8",
        "colab_type": "text"
      },
      "source": [
        "Code to import the data:"
      ]
    },
    {
      "cell_type": "code",
      "metadata": {
        "id": "BeExVbcUVwZY",
        "colab_type": "code",
        "colab": {
          "base_uri": "https://localhost:8080/",
          "height": 121
        },
        "outputId": "089f7be4-a8a0-4a1c-bb78-cc8d3ebf5c23"
      },
      "source": [
        "# allow us to import data from Google Drive\n",
        "from google.colab import drive\n",
        "drive.mount('/content/gdrive')\n",
        "\n",
        "# make our root and base directories clear\n",
        "root_dir = \"/content/gdrive/My Drive/\"\n",
        "base_dir = root_dir + 'Fellowship-ai-challenge/'\n",
        "\n",
        "import pandas as pd\n",
        "df = pd.read_csv(base_dir + 'Tweets.csv')"
      ],
      "execution_count": 1,
      "outputs": [
        {
          "output_type": "stream",
          "text": [
            "Go to this URL in a browser: https://accounts.google.com/o/oauth2/auth?client_id=947318989803-6bn6qk8qdgf4n4g3pfee6491hc0brc4i.apps.googleusercontent.com&redirect_uri=urn%3Aietf%3Awg%3Aoauth%3A2.0%3Aoob&scope=email%20https%3A%2F%2Fwww.googleapis.com%2Fauth%2Fdocs.test%20https%3A%2F%2Fwww.googleapis.com%2Fauth%2Fdrive%20https%3A%2F%2Fwww.googleapis.com%2Fauth%2Fdrive.photos.readonly%20https%3A%2F%2Fwww.googleapis.com%2Fauth%2Fpeopleapi.readonly&response_type=code\n",
            "\n",
            "Enter your authorization code:\n",
            "··········\n",
            "Mounted at /content/gdrive\n"
          ],
          "name": "stdout"
        }
      ]
    },
    {
      "cell_type": "markdown",
      "metadata": {
        "id": "k_FM79apXV7g",
        "colab_type": "text"
      },
      "source": [
        "Code to preprocess Twitter data:"
      ]
    },
    {
      "cell_type": "code",
      "metadata": {
        "id": "ttkZRKDWXM03",
        "colab_type": "code",
        "colab": {}
      },
      "source": [
        "import re\n",
        "\n",
        "def removeUnicode(text):\n",
        "  \"\"\" Removes unicode strings like \"\\u002c\" and \"x96\" \"\"\"\n",
        "  text = re.sub(r'(\\\\u[0-9A-Fa-f]+)',r'', text)       \n",
        "  text = re.sub(r'[^\\x00-\\x7f]',r'',text)\n",
        "  return text\n",
        "  \n",
        "def replaceURL(text):\n",
        "  \"\"\"Replaces url address with \"url\" \"\"\"\n",
        "  text = re.sub('((www\\.[^\\s]+)|(https?://[^\\s]+))','url',text)\n",
        "  text = re.sub(r'#([^\\s]+)', r'\\1', text)\n",
        "  return text\n",
        "\n",
        "def replaceAtUser(text):\n",
        "  \"\"\" Replaces \"@user\" with \"atUser\" \"\"\"\n",
        "  # text = re.sub('@[^\\s]+','atUser',text)\n",
        "  text = re.sub('@[^\\s]+','',text)\n",
        "  return text\n",
        "\n",
        "def removeHashtagInFrontOfWord(text):\n",
        "  \"\"\" Removes hastag in front of a word \"\"\"\n",
        "  text = re.sub(r'#([^\\s]+)', r'\\1', text)\n",
        "  return text\n",
        "\n",
        "def removeNumbers(text):\n",
        "  \"\"\" Removes integers \"\"\"\n",
        "  text = ''.join([i for i in text if not i.isdigit()])         \n",
        "  return text\n",
        "\n",
        "def removeEmoticons(text):\n",
        "  \"\"\" Removes emoticons from text \"\"\"\n",
        "  text = re.sub(':\\)|;\\)|:-\\)|\\(-:|:-D|=D|:P|xD|X-p|\\^\\^|:-*|\\^\\.\\^|\\^\\-\\^|\\^\\_\\^|\\,-\\)|\\)-:|:\\'\\(|:\\(|:-\\(|:\\S|T\\.T|\\.\\_\\.|:<|:-\\S|:-<|\\*\\-\\*|:O|=O|=\\-O|O\\.o|XO|O\\_O|:-\\@|=/|:/|X\\-\\(|>\\.<|>=\\(|D:', '', text)\n",
        "  return text\n",
        "\n",
        "\n",
        "\"\"\" Replaces contractions from a string to their equivalents \"\"\"\n",
        "contraction_patterns = [ (r'won\\'t', 'will not'), (r'can\\'t', 'cannot'), (r'i\\'m', 'i am'), (r'ain\\'t', 'is not'), (r'(\\w+)\\'ll', '\\g<1> will'), (r'(\\w+)n\\'t', '\\g<1> not'),\n",
        "                         (r'(\\w+)\\'ve', '\\g<1> have'), (r'(\\w+)\\'s', '\\g<1> is'), (r'(\\w+)\\'re', '\\g<1> are'), (r'(\\w+)\\'d', '\\g<1> would'), (r'&', 'and'), (r'dammit', 'damn it'), (r'dont', 'do not'), (r'wont', 'will not') ]\n",
        "def replaceContraction(text):\n",
        "  patterns = [(re.compile(regex), repl) for (regex, repl) in contraction_patterns]\n",
        "  for (pattern, repl) in patterns:\n",
        "      (text, count) = re.subn(pattern, repl, text)\n",
        "  return text\n",
        "\n",
        "def preprocessTwitterData(df):\n",
        "  \"\"\"Function to apply text preprocessing functions to a dataframe\"\"\"\n",
        "  \n",
        "  # remove unicode\n",
        "  df['text'] = df['text'].apply(removeUnicode)\n",
        "  \n",
        "  # replace url\n",
        "  df['text'] = df['text'].apply(replaceURL)\n",
        "  \n",
        "  # replace '@' signs\n",
        "  df['text'] = df['text'].apply(replaceAtUser)\n",
        "  \n",
        "  \n",
        "  # replace hastags\n",
        "  df['text'] = df['text'].apply(removeHashtagInFrontOfWord)\n",
        "  \n",
        "  # remove numbers in the tweets\n",
        "  df['text'] = df['text'].apply(removeNumbers)\n",
        "  \n",
        "  # remove the emoticons\n",
        "  df['text'] = df['text'].apply(removeEmoticons)\n",
        "  \n",
        "  # replace contractions\n",
        "  df['text'] = df['text'].apply(replaceContraction)"
      ],
      "execution_count": 0,
      "outputs": []
    },
    {
      "cell_type": "markdown",
      "metadata": {
        "id": "qdP0RJCdXuyS",
        "colab_type": "text"
      },
      "source": [
        "## Functions to produce results fast"
      ]
    },
    {
      "cell_type": "markdown",
      "metadata": {
        "id": "cc8StDeoUAkR",
        "colab_type": "text"
      },
      "source": [
        "Now that we've described and explained the entire process, in order to get eventually get the best results, we need to test out various hyperparameters.\n",
        "\n",
        "Let's define a function that can take in these hyperparameters as variables, and we can simply run the function once to do our entire analysis in one go.\n",
        "\n",
        "It would be helpful to see a confusion matrix for each individual category so we can so let's define functions to plot the confusion matrix."
      ]
    },
    {
      "cell_type": "code",
      "metadata": {
        "id": "5OlxoEt3JqHc",
        "colab_type": "code",
        "colab": {}
      },
      "source": [
        "# import relevant libs\n",
        "from fastai.text import *\n",
        "from sklearn.model_selection import train_test_split\n",
        "\n",
        "def ULMFiT_Airline_Sentiment(df,test_size=0.1, valid_size=0.1,preprocess=True,\n",
        "                            lm_dropout=0.3,classifier_dropout=0.5,\n",
        "                            max_lr_lm=1e-2,num_cycles_lm_ft=5,\n",
        "                            bs_classifier=32,\n",
        "                            lr_classifier_init=1e-2,\n",
        "                             epochs_classifier_init=5,\n",
        "                             lr_classifier_1=5e-3,\n",
        "                             epochs_classifier_1=5,\n",
        "                             lr_classifier_2=5e-3,\n",
        "                             epochs_classifier_2=5,\n",
        "                             lr_classifier_final=5e-3,\n",
        "                             epochs_classifier_final=5\n",
        "                            ):\n",
        "  \"\"\"\n",
        "  Function to apply ULMFiT model to the Airline Sentiment\n",
        "  \n",
        "  @df: The dataframe with the data\n",
        "  @test_size: how much data to set aside as test set\n",
        "  @valid_size: how much data to set aside from training as validation set\n",
        "  @preprocess: whether or not to preprocess the tweet data\n",
        "  @lm_dropout: dropout to apply to the language model when fine-tuning\n",
        "  @classifier_dropout: dropout to apply to the classifier when fine-tuning\n",
        "  @max_lr_lm: the max learning rate for 1cycle pol. on LM\n",
        "  @num_cycles_lm_ft: the number of epochs we use to train the LM after\n",
        "  unfreezing.\n",
        "  @bs_classifier: batch size for classifier\n",
        "  @lr_classifier_init: learning rate for first training of classifier\n",
        "  @epochs_classifier_init: number of epochs we use to train the classifier\n",
        "  before gradual unfreezing\n",
        "  @lr_classifier_1:learning rate for training of classifier after 1st unfreeze\n",
        "  @epochs_classifier_1:number of epochs \"                              \"\n",
        "  @lr_classifier_2:learning rate for training of classifier after 2nd unfreeze\n",
        "  @epochs_classifier_2: number of epochs \"                             \"\n",
        "  @lr_classifier_final: learning rate after entire model unfrozen\n",
        "  @epochs_classifier_final:epochs \"                         \"\n",
        "  \"\"\"\n",
        "  # preprocessing data\n",
        "  if preprocess:\n",
        "    print(\"preprocessing Twitter data\")\n",
        "    preprocessTwitterData(df)\n",
        "  \n",
        "  # only need text and airline_sentiment\n",
        "  df = df[['text','airline_sentiment']]\n",
        "  \n",
        "  # split the data into train and test\n",
        "  df_train, df_test = train_test_split(df,test_size=test_size,random_state=40)\n",
        "  \n",
        "  # Convert the cleaned training and testing data\n",
        "  # into their own CSV files which we can import\n",
        "  # later to perform modeling on them\n",
        "\n",
        "  # these lines write CSV files to our current directory\n",
        "  df_train.to_csv('twitter_data_cleaned_train.csv')\n",
        "  df_test.to_csv('twitter_data_cleaned_test.csv')\n",
        "  \n",
        "  print(\"Getting LM data into appropriate form\")\n",
        "  # TextMLDataBunch process\n",
        "  data_lm = TextLMDataBunch.from_csv(path='',\n",
        "                                     csv_name='twitter_data_cleaned_train.csv',\n",
        "                                     valid_pct=valid_size)\n",
        "  \n",
        "  \n",
        "  # LM learner\n",
        "  learn = language_model_learner(data_lm,AWD_LSTM,drop_mult=lm_dropout)\n",
        "  \n",
        "  print(\"Fine-tuning language model\")\n",
        "  # one cycle training, always use moms=(0.85,0.75), always use one epoch on\n",
        "  # this step to avoid overly fine-tuning\n",
        "  learn.fit_one_cycle(1,max_lr=max_lr_lm)\n",
        "  \n",
        "  # unfreeze LM and do discriminative fine-tuning\n",
        "  learn.fit_one_cycle(cyc_len=num_cycles_lm_ft, \n",
        "                      max_lr=slice(max_lr_lm/(2.6**4),max_lr_lm))\n",
        "  \n",
        "  # save the encoding layer\n",
        "  learn.save_encoder('encoder')\n",
        "  \n",
        "  print(\"LM fine-tuning complete\")\n",
        "  # Start Classifier fine-tuning\n",
        "  \n",
        "  print(\"Getting Classifier data into appropriate form\")\n",
        "  data_class = TextClasDataBunch.from_csv(path='',\n",
        "                                          csv_name='twitter_data_cleaned_train.csv',\n",
        "                              vocab=data_lm.train_ds.vocab,\n",
        "                                          bs=bs_classifier\n",
        "                                          ,text_cols='text'\n",
        "                                          ,label_cols='airline_sentiment')\n",
        "  \n",
        "  # Classifier Learner\n",
        "  learn = text_classifier_learner(data_class,AWD_LSTM,\n",
        "                                  drop_mult=classifier_dropout)\n",
        "  \n",
        "  # Load the pretrained encoder into the model\n",
        "  learn.load_encoder('encoder')\n",
        "  \n",
        "  print(\"Started Classifier fine-tuning\")\n",
        "  # Training before gradual unfreezing\n",
        "  learn.fit_one_cycle(epochs_classifier_init,lr_classifier_init)\n",
        "  \n",
        "  print(\"Started gradual unfreezing\")\n",
        "  # Start gradual unfreezing process\n",
        "  \n",
        "  # unfreeze next layer and train (discriminative layer training)\n",
        "  learn.freeze_to(-2)\n",
        "  learn.fit_one_cycle(epochs_classifier_1,\n",
        "                      slice(lr_classifier_1/(2.6**4),lr_classifier_1))\n",
        "  \n",
        "  # unfreeze next layer and train (discriminative layer training)\n",
        "  learn.freeze_to(-3)\n",
        "  learn.fit_one_cycle(epochs_classifier_2,\n",
        "                      slice(lr_classifier_2/(2.6**4),lr_classifier_2))\n",
        "  \n",
        "  # unfreeze everything and train\n",
        "  learn.fit_one_cycle(epochs_classifier_final,\n",
        "                      slice(lr_classifier_final/(2.6**4),lr_classifier_final))\n",
        "  \n",
        "  print(\"ULMFiT done!\")\n",
        "  # return the model\n",
        "  return learn\n",
        "\n",
        "\n",
        "\n",
        "\n",
        "import matplotlib.pyplot as plt\n",
        "# Taken from the scikit-learn documentation\n",
        "def plot_confusion_matrix(y_true, y_pred, classes,\n",
        "                          normalize=False,\n",
        "                          title=None,\n",
        "                          cmap=plt.cm.Blues):\n",
        "    \"\"\"\n",
        "    This function prints and plots the confusion matrix.\n",
        "    Normalization can be applied by setting `normalize=True`.\n",
        "    \"\"\"\n",
        "    if not title:\n",
        "        if normalize:\n",
        "            title = 'Normalized confusion matrix'\n",
        "        else:\n",
        "            title = 'Confusion matrix, without normalization'\n",
        "\n",
        "    # Compute confusion matrix\n",
        "    cm = confusion_matrix(y_true, y_pred)\n",
        "    # Only use the labels that appear in the data\n",
        "    #classes = classes[unique_labels(y_true, y_pred)]\n",
        "\n",
        "    fig, ax = plt.subplots()\n",
        "    im = ax.imshow(cm, interpolation='nearest', cmap=cmap)\n",
        "    ax.figure.colorbar(im, ax=ax)\n",
        "    # We want to show all ticks...\n",
        "    ax.set(xticks=np.arange(cm.shape[1]),\n",
        "           yticks=np.arange(cm.shape[0]),\n",
        "           # ... and label them with the respective list entries\n",
        "           xticklabels=classes, yticklabels=classes,\n",
        "           title=title,\n",
        "           ylabel='True label',\n",
        "           xlabel='Predicted label')\n",
        "\n",
        "    # Rotate the tick labels and set their alignment.\n",
        "    plt.setp(ax.get_xticklabels(), rotation=45, ha=\"right\",\n",
        "             rotation_mode=\"anchor\")\n",
        "\n",
        "    # Loop over data dimensions and create text annotations.\n",
        "    fmt = '.2f' if normalize else 'd'\n",
        "    thresh = cm.max() / 2.\n",
        "    for i in range(cm.shape[0]):\n",
        "        for j in range(cm.shape[1]):\n",
        "            ax.text(j, i, format(cm[i, j], fmt),\n",
        "                    ha=\"center\", va=\"center\",\n",
        "                    color=\"white\" if cm[i, j] > thresh else \"black\")\n",
        "    fig.tight_layout()\n",
        "    return ax"
      ],
      "execution_count": 0,
      "outputs": []
    },
    {
      "cell_type": "code",
      "metadata": {
        "id": "rVRvrxlCUq4r",
        "colab_type": "code",
        "colab": {
          "base_uri": "https://localhost:8080/",
          "height": 1000
        },
        "outputId": "46f97e03-13c2-4d0b-a44c-3e6065b55146"
      },
      "source": [
        "# example of using the function with accuracy and confusion matrix\n",
        "\n",
        "# import metrics from sklearn\n",
        "from sklearn.metrics import accuracy_score\n",
        "from sklearn.metrics import confusion_matrix\n",
        "\n",
        "# apply function to get learner\n",
        "learn = ULMFiT_Airline_Sentiment(df,preprocess=False)\n",
        "\n",
        "# put test data in test df\n",
        "df_test = pd.read_csv('twitter_data_cleaned_test.csv')\n",
        "\n",
        "# add a column with the predictions on the test set\n",
        "df_test['sentiment_pred'] = df_test['text'].apply(lambda row:str(learn.predict(row)[0]))\n",
        "\n",
        "\n",
        "# print the accuracy against the test set\n",
        "print(\"Accuracy: {}\".format(accuracy_score(df_test['airline_sentiment'],df_test[\n",
        "    'sentiment_pred'\n",
        "])))\n",
        "\n",
        "# plot the confusion matrix for the test set\n",
        "plot_confusion_matrix(df_test['airline_sentiment'],df_test['sentiment_pred'],\n",
        "                      classes=['negative','neutral','positive'])\n",
        "plt.show()"
      ],
      "execution_count": 4,
      "outputs": [
        {
          "output_type": "stream",
          "text": [
            "Started Classifier fine-tuning\n"
          ],
          "name": "stdout"
        },
        {
          "output_type": "display_data",
          "data": {
            "text/html": [
              "<table border=\"1\" class=\"dataframe\">\n",
              "  <thead>\n",
              "    <tr style=\"text-align: left;\">\n",
              "      <th>epoch</th>\n",
              "      <th>train_loss</th>\n",
              "      <th>valid_loss</th>\n",
              "      <th>accuracy</th>\n",
              "      <th>time</th>\n",
              "    </tr>\n",
              "  </thead>\n",
              "  <tbody>\n",
              "    <tr>\n",
              "      <td>0</td>\n",
              "      <td>0.684226</td>\n",
              "      <td>0.584143</td>\n",
              "      <td>0.758346</td>\n",
              "      <td>00:07</td>\n",
              "    </tr>\n",
              "    <tr>\n",
              "      <td>1</td>\n",
              "      <td>0.700332</td>\n",
              "      <td>0.555559</td>\n",
              "      <td>0.767071</td>\n",
              "      <td>00:07</td>\n",
              "    </tr>\n",
              "    <tr>\n",
              "      <td>2</td>\n",
              "      <td>0.646435</td>\n",
              "      <td>0.533771</td>\n",
              "      <td>0.786798</td>\n",
              "      <td>00:07</td>\n",
              "    </tr>\n",
              "    <tr>\n",
              "      <td>3</td>\n",
              "      <td>0.639386</td>\n",
              "      <td>0.541082</td>\n",
              "      <td>0.773520</td>\n",
              "      <td>00:07</td>\n",
              "    </tr>\n",
              "    <tr>\n",
              "      <td>4</td>\n",
              "      <td>0.625220</td>\n",
              "      <td>0.530479</td>\n",
              "      <td>0.777693</td>\n",
              "      <td>00:07</td>\n",
              "    </tr>\n",
              "  </tbody>\n",
              "</table>"
            ],
            "text/plain": [
              "<IPython.core.display.HTML object>"
            ]
          },
          "metadata": {
            "tags": []
          }
        },
        {
          "output_type": "stream",
          "text": [
            "Started gradual unfreezing\n"
          ],
          "name": "stdout"
        },
        {
          "output_type": "display_data",
          "data": {
            "text/html": [
              "<table border=\"1\" class=\"dataframe\">\n",
              "  <thead>\n",
              "    <tr style=\"text-align: left;\">\n",
              "      <th>epoch</th>\n",
              "      <th>train_loss</th>\n",
              "      <th>valid_loss</th>\n",
              "      <th>accuracy</th>\n",
              "      <th>time</th>\n",
              "    </tr>\n",
              "  </thead>\n",
              "  <tbody>\n",
              "    <tr>\n",
              "      <td>0</td>\n",
              "      <td>0.615485</td>\n",
              "      <td>0.511355</td>\n",
              "      <td>0.798938</td>\n",
              "      <td>00:08</td>\n",
              "    </tr>\n",
              "    <tr>\n",
              "      <td>1</td>\n",
              "      <td>0.617296</td>\n",
              "      <td>0.519167</td>\n",
              "      <td>0.790592</td>\n",
              "      <td>00:08</td>\n",
              "    </tr>\n",
              "    <tr>\n",
              "      <td>2</td>\n",
              "      <td>0.571508</td>\n",
              "      <td>0.485129</td>\n",
              "      <td>0.809560</td>\n",
              "      <td>00:08</td>\n",
              "    </tr>\n",
              "    <tr>\n",
              "      <td>3</td>\n",
              "      <td>0.510683</td>\n",
              "      <td>0.474465</td>\n",
              "      <td>0.810698</td>\n",
              "      <td>00:08</td>\n",
              "    </tr>\n",
              "    <tr>\n",
              "      <td>4</td>\n",
              "      <td>0.475067</td>\n",
              "      <td>0.474577</td>\n",
              "      <td>0.810319</td>\n",
              "      <td>00:08</td>\n",
              "    </tr>\n",
              "  </tbody>\n",
              "</table>"
            ],
            "text/plain": [
              "<IPython.core.display.HTML object>"
            ]
          },
          "metadata": {
            "tags": []
          }
        },
        {
          "output_type": "display_data",
          "data": {
            "text/html": [
              "<table border=\"1\" class=\"dataframe\">\n",
              "  <thead>\n",
              "    <tr style=\"text-align: left;\">\n",
              "      <th>epoch</th>\n",
              "      <th>train_loss</th>\n",
              "      <th>valid_loss</th>\n",
              "      <th>accuracy</th>\n",
              "      <th>time</th>\n",
              "    </tr>\n",
              "  </thead>\n",
              "  <tbody>\n",
              "    <tr>\n",
              "      <td>0</td>\n",
              "      <td>0.475503</td>\n",
              "      <td>0.465757</td>\n",
              "      <td>0.812216</td>\n",
              "      <td>00:14</td>\n",
              "    </tr>\n",
              "    <tr>\n",
              "      <td>1</td>\n",
              "      <td>0.541642</td>\n",
              "      <td>0.471177</td>\n",
              "      <td>0.820561</td>\n",
              "      <td>00:13</td>\n",
              "    </tr>\n",
              "    <tr>\n",
              "      <td>2</td>\n",
              "      <td>0.423801</td>\n",
              "      <td>0.471732</td>\n",
              "      <td>0.819803</td>\n",
              "      <td>00:14</td>\n",
              "    </tr>\n",
              "    <tr>\n",
              "      <td>3</td>\n",
              "      <td>0.321694</td>\n",
              "      <td>0.500005</td>\n",
              "      <td>0.821320</td>\n",
              "      <td>00:13</td>\n",
              "    </tr>\n",
              "    <tr>\n",
              "      <td>4</td>\n",
              "      <td>0.252500</td>\n",
              "      <td>0.505723</td>\n",
              "      <td>0.824355</td>\n",
              "      <td>00:13</td>\n",
              "    </tr>\n",
              "  </tbody>\n",
              "</table>"
            ],
            "text/plain": [
              "<IPython.core.display.HTML object>"
            ]
          },
          "metadata": {
            "tags": []
          }
        },
        {
          "output_type": "display_data",
          "data": {
            "text/html": [
              "<table border=\"1\" class=\"dataframe\">\n",
              "  <thead>\n",
              "    <tr style=\"text-align: left;\">\n",
              "      <th>epoch</th>\n",
              "      <th>train_loss</th>\n",
              "      <th>valid_loss</th>\n",
              "      <th>accuracy</th>\n",
              "      <th>time</th>\n",
              "    </tr>\n",
              "  </thead>\n",
              "  <tbody>\n",
              "    <tr>\n",
              "      <td>0</td>\n",
              "      <td>0.282763</td>\n",
              "      <td>0.513888</td>\n",
              "      <td>0.815250</td>\n",
              "      <td>00:14</td>\n",
              "    </tr>\n",
              "    <tr>\n",
              "      <td>1</td>\n",
              "      <td>0.349025</td>\n",
              "      <td>0.564520</td>\n",
              "      <td>0.816009</td>\n",
              "      <td>00:14</td>\n",
              "    </tr>\n",
              "    <tr>\n",
              "      <td>2</td>\n",
              "      <td>0.280702</td>\n",
              "      <td>0.532669</td>\n",
              "      <td>0.816009</td>\n",
              "      <td>00:14</td>\n",
              "    </tr>\n",
              "    <tr>\n",
              "      <td>3</td>\n",
              "      <td>0.199209</td>\n",
              "      <td>0.589608</td>\n",
              "      <td>0.810698</td>\n",
              "      <td>00:14</td>\n",
              "    </tr>\n",
              "    <tr>\n",
              "      <td>4</td>\n",
              "      <td>0.132459</td>\n",
              "      <td>0.595762</td>\n",
              "      <td>0.821700</td>\n",
              "      <td>00:14</td>\n",
              "    </tr>\n",
              "  </tbody>\n",
              "</table>"
            ],
            "text/plain": [
              "<IPython.core.display.HTML object>"
            ]
          },
          "metadata": {
            "tags": []
          }
        },
        {
          "output_type": "stream",
          "text": [
            "ULMFiT done!\n",
            "Accuracy: 0.828551912568306\n"
          ],
          "name": "stdout"
        },
        {
          "output_type": "display_data",
          "data": {
            "image/png": "[encoded data removed]",
            "text/plain": [
              "<Figure size 432x288 with 2 Axes>"
            ]
          },
          "metadata": {
            "tags": []
          }
        }
      ]
    },
    {
      "cell_type": "markdown",
      "metadata": {
        "id": "dJPpc6xYZpLF",
        "colab_type": "text"
      },
      "source": [
        "# Analysis of results"
      ]
    },
    {
      "cell_type": "markdown",
      "metadata": {
        "id": "8-jalPewhpXZ",
        "colab_type": "text"
      },
      "source": [
        "### Why accuracy as a metric?"
      ]
    },
    {
      "cell_type": "markdown",
      "metadata": {
        "id": "EFgUDvNchuXK",
        "colab_type": "text"
      },
      "source": [
        "We could use other classification metrics (such as recall, precision, etc.) but we're mostly interested in seeing how our results compare to other models. Both online and in research papers, these models' effectiveness are typically measured with accuracy."
      ]
    },
    {
      "cell_type": "markdown",
      "metadata": {
        "id": "YW7fm2gjimQ-",
        "colab_type": "text"
      },
      "source": [
        "### Results from other baseline models"
      ]
    },
    {
      "cell_type": "markdown",
      "metadata": {
        "id": "FNaxoyS3ipkL",
        "colab_type": "text"
      },
      "source": [
        "We're trying to gauge the effectiveness of ULMFiT, so it's important to measure our results against other common baselines models. \n",
        "\n",
        "From Kaggle (all are accuracies on testing sets):\n",
        "- Random Forest: 81.3%\n",
        "- AdaBoost:78.6%\n",
        "- Keras deep learning: 77.9%\n",
        "- Linear SVM: 78.5%\n",
        "\n"
      ]
    },
    {
      "cell_type": "markdown",
      "metadata": {
        "id": "1dZDwuxrlxsr",
        "colab_type": "text"
      },
      "source": [
        "### Our results"
      ]
    },
    {
      "cell_type": "markdown",
      "metadata": {
        "id": "SlgfEU4vl6CP",
        "colab_type": "text"
      },
      "source": [
        "As shown above, our accuracy on the testing set was **82.9%**. This is a slight improvement from the top score (amongst baseline ML models). The process of tuning the hyperparameters was done through trial and error/rerunning the Google Colab notebook. \n",
        "\n",
        "Most of the hyperparameter tunings (such as individual learning rates for the gradual unfreezes) resulted in negligible changes in accuracy. Increasing the epochs for different training rounds usually resulted in overfitting, which confirms Jeremy Howard's point about overly aggressive fine-tuning. \n",
        "\n",
        "Surprisingly, however, **preprocessing the Twitter data resulted in noticeably worse results (about 1-2% changes in accuracy).** This could be because of poor preprocessing techniques. It could also be because of our preprocessing techniques clashing with those of the fastai library.\n",
        "\n",
        "From the confusion matrix, we can see that there were quite a few samples that we predicted negative, when they were actually neutral. Thus, the model is slightly biased towards predicting a negative sentiment: this might have to do with the fact that there are so many negative Tweets in the first place.\n",
        "\n",
        "Overall, our results were better than those of most baseline models. This is likely due to the relevant features learned by the pretrained language model. Furthermore, our fine-tuning process was simple and computationally efficient."
      ]
    },
    {
      "cell_type": "markdown",
      "metadata": {
        "id": "OTvwKqnDZv25",
        "colab_type": "text"
      },
      "source": [
        "## Possible improvements/weaknesses of the model"
      ]
    },
    {
      "cell_type": "markdown",
      "metadata": {
        "id": "h6433EtUZzKo",
        "colab_type": "text"
      },
      "source": [
        "- We didn't exhaust all of our possible ways of preprocessing the Twitter data. In fact, taking preprocessing out gave us better results. Perhaps we could investigate more about preprocessing data in order to improve the results.\n",
        "- We used the implementation inside the fastai library for our pretrained language model. As a result, we couldn't make that many tweaks to it (such as taking out a particular dropout) that might improve performance for this particular dataset. In the future, we may benefit from implementing part of the model from scratch.\n",
        "- If we acquire a better language model, we might be able to improve our results. Perhaps we could integrate a model such as BERT (Google) or GPT-2 to do transfer learning with ULMFiT.\n",
        "- We didn't have an efficient way of exploring different hyperparameters aside from doing trial and error. In the future, we could use a customized function and advanced computational resources to explore a greater set of hyperparameters.\n",
        "\n",
        "Ultimately, the best two directions for improving our results, as well as text classification results in general are:\n",
        "- **Finding more sophisticated ways to create language models that beat the state-of-the art.**\n",
        "- **Researching more about transfer learning in general, so we can improve our understanding of ULMFiT and craft better ways of fine-tuning the model.**\n",
        "\n"
      ]
    },
    {
      "cell_type": "code",
      "metadata": {
        "id": "5U1w8H4FZq0w",
        "colab_type": "code",
        "colab": {}
      },
      "source": [
        ""
      ],
      "execution_count": 0,
      "outputs": []
    }
  ]
}