{
  "nbformat": 4,
  "nbformat_minor": 0,
  "metadata": {
    "colab": {
      "name": "ulmfit-runthrough-explanation.ipynb",
      "version": "0.3.2",
      "provenance": [],
      "collapsed_sections": []
    },
    "kernelspec": {
      "name": "python3",
      "display_name": "Python 3"
    },
    "accelerator": "GPU"
  },
  "cells": [
    {
      "cell_type": "markdown",
      "metadata": {
        "id": "EHEeLxv6EOJw",
        "colab_type": "text"
      },
      "source": [
        "# ULMFiT approach"
      ]
    },
    {
      "cell_type": "markdown",
      "metadata": {
        "id": "cas0hdkOEYNV",
        "colab_type": "text"
      },
      "source": [
        "## What's the problem?"
      ]
    },
    {
      "cell_type": "markdown",
      "metadata": {
        "id": "3Z_z9zYhE5Kz",
        "colab_type": "text"
      },
      "source": [
        "We're given labeled data (curated from Kaggle) regarding airline sentiment. More specifically, our input data is a collection of tweets, and each tweet has an associated label of 'positive', 'neutral', or 'negative'. Our goal is to predict the sentiment of a tweet based on the text we're given (we'll get more into the details of the dataset later)\n",
        "\n",
        "Given that the problem supervised (we have labels, and we're trying to learn them), we could resort to typical machine learning/deep learning approaches for text classification, as we would do with any supervised machine learning problem. \n",
        "\n",
        "**The main issue is that with Twitter Airline Sentiment, and various other text classification problems, we don't have much data. Collecting data and labeling it is cumbersome, and it's difficult to leverage the power of deep learning if we don't have a large amount of data to work with.**"
      ]
    },
    {
      "cell_type": "markdown",
      "metadata": {
        "id": "K30kxZpYKGhh",
        "colab_type": "text"
      },
      "source": [
        "## What's the solution?"
      ]
    },
    {
      "cell_type": "markdown",
      "metadata": {
        "id": "Gi9_oV51LDFm",
        "colab_type": "text"
      },
      "source": [
        "## Transfer Learning"
      ]
    },
    {
      "cell_type": "markdown",
      "metadata": {
        "id": "X_gdarfKLFZx",
        "colab_type": "text"
      },
      "source": [
        "Transfer learning has been used successfully in computer vision for some time now. Transfer learning is helpful because we can put all our time and resources into training one model on a large set of data, and then reuse weights/layers/architectures from that model on similar tasks.\n",
        "\n",
        "We've tried to use transfer learning in NLP with **word embeddings**. Algorithms that learn word embeddings typically use something called an **embedding layer**, or an **embedding matrix**. According to Jeremy Howard and Sebastian Ruder (authors of ULMFiT), however, using a single neural layer isn't using the power of neural networks to their fullest because  of the numerous hidden layers that they usually contain.\n",
        "\n",
        "So what's the equivalent of transfer learning NLP? And how do we use more than just a single neural layer to do transfer learning?\n"
      ]
    },
    {
      "cell_type": "markdown",
      "metadata": {
        "id": "3OHTMnnZQ6zw",
        "colab_type": "text"
      },
      "source": [
        "## Language modeling"
      ]
    },
    {
      "cell_type": "markdown",
      "metadata": {
        "id": "LwIgTqHfKKJ6",
        "colab_type": "text"
      },
      "source": [
        "This is where **RNN language models** come in. Language modeling is helpful because\n",
        "- The neural network is given the task of predicting the next word in a sentence, which requires the network to learn more nuanced, sophisticated features of language.\n",
        "- Language modeling is an unsupervised task that has an infinitely large corpus of data to work with: we don't have to collect customized labels."
      ]
    },
    {
      "cell_type": "markdown",
      "metadata": {
        "id": "Ab_Cnn1CO0VB",
        "colab_type": "text"
      },
      "source": [
        "According to Howard/Ruder, while this has been tried before, it wasn't done as smartly as it could have been done.  The ULMFiT model is as follows (don't worry, we'll get into the details later to see exactly how this works):\n",
        "1. Pretrain an effective language model on a large text corpus.\n",
        "2. Fine-tune the language model to the text data from the relevant classification task\n",
        "3. Fine-tune the classifier for the relevant task."
      ]
    },
    {
      "cell_type": "markdown",
      "metadata": {
        "id": "FmcdXMeRRXR8",
        "colab_type": "text"
      },
      "source": [
        "To summarize, the great things about ULMFiT are:\n",
        "- We don't have to collect a **large** amount of labeled data for a particular classification task.\n",
        "- We only have to train a language model once. After that, all the steps are fine-tuning steps that are computationally inexpensive.\n",
        "- We can use the power of **RNN language models**, which learn important features of language like **syntax** and **semantics**. "
      ]
    },
    {
      "cell_type": "markdown",
      "metadata": {
        "id": "n09O4Bj6Q01a",
        "colab_type": "text"
      },
      "source": [
        "## Pretrain the language model"
      ]
    },
    {
      "cell_type": "markdown",
      "metadata": {
        "id": "4SHn2FXXQ5Is",
        "colab_type": "text"
      },
      "source": [
        "The first part of the ULMFiT approach is training a language model on a large corpus of text data. If we (more specifically, I) had more computational resources, we could train a language model like GPT-2 (OpenAI) that has produced state-of-the-art results. However, Jeremy Howard has created the fastai PyTorch library that makes the **AWD-LSTM language model** fully available. It's also pretrained on the Wikitext 103 dataset, so we don't have to use any time/resources to pretrain a language model ourselves. \n",
        "\n",
        "The AWD-LSTM, created by Stephen Merity, has also produced great results that are detailed in his paper \"Regularizing and Optimizing LSTM Language Models.\" The purported reasons for the language model's effectiveness are:\n",
        "- Use of an LSTM architecture, which does a great job of learning **long-term dependencies** in sentences.\n",
        "- Use of various **dropouts**, which aims to solve the problem of **overfitting** in RNN language models. \n",
        "- Other advanced techniques, such as **variable-length backpropagation sequences** (makes the most efficient use of the data we're given), **temporal activation regularization** (placing L2 regularization on the hidden activations to prevent substantial changes in hidden state), etc.\n"
      ]
    },
    {
      "cell_type": "markdown",
      "metadata": {
        "id": "tDiRE951VUz6",
        "colab_type": "text"
      },
      "source": [
        "## Importing the Twitter data"
      ]
    },
    {
      "cell_type": "code",
      "metadata": {
        "id": "QFtA-KeiVmA_",
        "colab_type": "code",
        "colab": {
          "base_uri": "https://localhost:8080/",
          "height": 34
        },
        "outputId": "108c3bad-c432-4612-8aba-55f3041c576b"
      },
      "source": [
        "# allow us to import data from Google Drive\n",
        "from google.colab import drive\n",
        "drive.mount('/content/gdrive')"
      ],
      "execution_count": 1,
      "outputs": [
        {
          "output_type": "stream",
          "text": [
            "Drive already mounted at /content/gdrive; to attempt to forcibly remount, call drive.mount(\"/content/gdrive\", force_remount=True).\n"
          ],
          "name": "stdout"
        }
      ]
    },
    {
      "cell_type": "code",
      "metadata": {
        "id": "0CJ_o0DSVt_5",
        "colab_type": "code",
        "colab": {}
      },
      "source": [
        "# make our root and base directories clear\n",
        "root_dir = \"/content/gdrive/My Drive/\"\n",
        "base_dir = root_dir + 'Fellowship-ai-challenge/'\n",
        "\n",
        "import pandas as pd\n",
        "df = pd.read_csv(base_dir + 'Tweets.csv')"
      ],
      "execution_count": 0,
      "outputs": []
    },
    {
      "cell_type": "markdown",
      "metadata": {
        "id": "47K1PdD_Eqjq",
        "colab_type": "text"
      },
      "source": [
        "## Exploratory data analysis - Twitter Airline Sentiment"
      ]
    },
    {
      "cell_type": "markdown",
      "metadata": {
        "id": "F-TqVfvddknY",
        "colab_type": "text"
      },
      "source": [
        "Before we start fine-tuning our model, let's do some exploratory data analysis to understand what our data looks like.\n",
        "\n",
        "Note that EDA won't have much of an impact on how we go about fine-tuning our model, but it'll give us some more insight, and perhaps allow us to make some more educated conclusions later."
      ]
    },
    {
      "cell_type": "code",
      "metadata": {
        "id": "jWXjswuceFia",
        "colab_type": "code",
        "colab": {
          "base_uri": "https://localhost:8080/",
          "height": 434
        },
        "outputId": "170037f1-7755-4570-f25c-f80748dc86b7"
      },
      "source": [
        "# this is what the data looks like\n",
        "df.head()"
      ],
      "execution_count": 3,
      "outputs": [
        {
          "output_type": "execute_result",
          "data": {
            "text/html": [
              "<div>\n",
              "<style scoped>\n",
              "    .dataframe tbody tr th:only-of-type {\n",
              "        vertical-align: middle;\n",
              "    }\n",
              "\n",
              "    .dataframe tbody tr th {\n",
              "        vertical-align: top;\n",
              "    }\n",
              "\n",
              "    .dataframe thead th {\n",
              "        text-align: right;\n",
              "    }\n",
              "</style>\n",
              "<table border=\"1\" class=\"dataframe\">\n",
              "  <thead>\n",
              "    <tr style=\"text-align: right;\">\n",
              "      <th></th>\n",
              "      <th>tweet_id</th>\n",
              "      <th>airline_sentiment</th>\n",
              "      <th>airline_sentiment_confidence</th>\n",
              "      <th>negativereason</th>\n",
              "      <th>negativereason_confidence</th>\n",
              "      <th>airline</th>\n",
              "      <th>airline_sentiment_gold</th>\n",
              "      <th>name</th>\n",
              "      <th>negativereason_gold</th>\n",
              "      <th>retweet_count</th>\n",
              "      <th>text</th>\n",
              "      <th>tweet_coord</th>\n",
              "      <th>tweet_created</th>\n",
              "      <th>tweet_location</th>\n",
              "      <th>user_timezone</th>\n",
              "    </tr>\n",
              "  </thead>\n",
              "  <tbody>\n",
              "    <tr>\n",
              "      <th>0</th>\n",
              "      <td>570306133677760513</td>\n",
              "      <td>neutral</td>\n",
              "      <td>1.0000</td>\n",
              "      <td>NaN</td>\n",
              "      <td>NaN</td>\n",
              "      <td>Virgin America</td>\n",
              "      <td>NaN</td>\n",
              "      <td>cairdin</td>\n",
              "      <td>NaN</td>\n",
              "      <td>0</td>\n",
              "      <td>@VirginAmerica What @dhepburn said.</td>\n",
              "      <td>NaN</td>\n",
              "      <td>2015-02-24 11:35:52 -0800</td>\n",
              "      <td>NaN</td>\n",
              "      <td>Eastern Time (US &amp; Canada)</td>\n",
              "    </tr>\n",
              "    <tr>\n",
              "      <th>1</th>\n",
              "      <td>570301130888122368</td>\n",
              "      <td>positive</td>\n",
              "      <td>0.3486</td>\n",
              "      <td>NaN</td>\n",
              "      <td>0.0000</td>\n",
              "      <td>Virgin America</td>\n",
              "      <td>NaN</td>\n",
              "      <td>jnardino</td>\n",
              "      <td>NaN</td>\n",
              "      <td>0</td>\n",
              "      <td>@VirginAmerica plus you've added commercials t...</td>\n",
              "      <td>NaN</td>\n",
              "      <td>2015-02-24 11:15:59 -0800</td>\n",
              "      <td>NaN</td>\n",
              "      <td>Pacific Time (US &amp; Canada)</td>\n",
              "    </tr>\n",
              "    <tr>\n",
              "      <th>2</th>\n",
              "      <td>570301083672813571</td>\n",
              "      <td>neutral</td>\n",
              "      <td>0.6837</td>\n",
              "      <td>NaN</td>\n",
              "      <td>NaN</td>\n",
              "      <td>Virgin America</td>\n",
              "      <td>NaN</td>\n",
              "      <td>yvonnalynn</td>\n",
              "      <td>NaN</td>\n",
              "      <td>0</td>\n",
              "      <td>@VirginAmerica I didn't today... Must mean I n...</td>\n",
              "      <td>NaN</td>\n",
              "      <td>2015-02-24 11:15:48 -0800</td>\n",
              "      <td>Lets Play</td>\n",
              "      <td>Central Time (US &amp; Canada)</td>\n",
              "    </tr>\n",
              "    <tr>\n",
              "      <th>3</th>\n",
              "      <td>570301031407624196</td>\n",
              "      <td>negative</td>\n",
              "      <td>1.0000</td>\n",
              "      <td>Bad Flight</td>\n",
              "      <td>0.7033</td>\n",
              "      <td>Virgin America</td>\n",
              "      <td>NaN</td>\n",
              "      <td>jnardino</td>\n",
              "      <td>NaN</td>\n",
              "      <td>0</td>\n",
              "      <td>@VirginAmerica it's really aggressive to blast...</td>\n",
              "      <td>NaN</td>\n",
              "      <td>2015-02-24 11:15:36 -0800</td>\n",
              "      <td>NaN</td>\n",
              "      <td>Pacific Time (US &amp; Canada)</td>\n",
              "    </tr>\n",
              "    <tr>\n",
              "      <th>4</th>\n",
              "      <td>570300817074462722</td>\n",
              "      <td>negative</td>\n",
              "      <td>1.0000</td>\n",
              "      <td>Can't Tell</td>\n",
              "      <td>1.0000</td>\n",
              "      <td>Virgin America</td>\n",
              "      <td>NaN</td>\n",
              "      <td>jnardino</td>\n",
              "      <td>NaN</td>\n",
              "      <td>0</td>\n",
              "      <td>@VirginAmerica and it's a really big bad thing...</td>\n",
              "      <td>NaN</td>\n",
              "      <td>2015-02-24 11:14:45 -0800</td>\n",
              "      <td>NaN</td>\n",
              "      <td>Pacific Time (US &amp; Canada)</td>\n",
              "    </tr>\n",
              "  </tbody>\n",
              "</table>\n",
              "</div>"
            ],
            "text/plain": [
              "             tweet_id  ...               user_timezone\n",
              "0  570306133677760513  ...  Eastern Time (US & Canada)\n",
              "1  570301130888122368  ...  Pacific Time (US & Canada)\n",
              "2  570301083672813571  ...  Central Time (US & Canada)\n",
              "3  570301031407624196  ...  Pacific Time (US & Canada)\n",
              "4  570300817074462722  ...  Pacific Time (US & Canada)\n",
              "\n",
              "[5 rows x 15 columns]"
            ]
          },
          "metadata": {
            "tags": []
          },
          "execution_count": 3
        }
      ]
    },
    {
      "cell_type": "code",
      "metadata": {
        "id": "dB1fbT9zi6Kd",
        "colab_type": "code",
        "colab": {}
      },
      "source": [
        "# what does the distribution look like for "
      ],
      "execution_count": 0,
      "outputs": []
    },
    {
      "cell_type": "code",
      "metadata": {
        "id": "mY4YrzOPfee0",
        "colab_type": "code",
        "colab": {
          "base_uri": "https://localhost:8080/",
          "height": 291
        },
        "outputId": "1cebabd3-f2e5-4ecd-8fe0-66e2a707622d"
      },
      "source": [
        "# what does the distribution look like for the various sentiments?\n",
        "import seaborn as sns\n",
        "sns.set(style=\"darkgrid\")\n",
        "ax = sns.countplot(x=\"airline_sentiment\", data=df)"
      ],
      "execution_count": 5,
      "outputs": [
        {
          "output_type": "display_data",
          "data": {
            "image/png": "[encoded data removed]",
            "text/plain": [
              "<Figure size 432x288 with 1 Axes>"
            ]
          },
          "metadata": {
            "tags": []
          }
        }
      ]
    },
    {
      "cell_type": "code",
      "metadata": {
        "id": "619SYy3mfuDc",
        "colab_type": "code",
        "colab": {
          "base_uri": "https://localhost:8080/",
          "height": 291
        },
        "outputId": "d35c550a-d4a6-4279-a96d-8306ed0c3186"
      },
      "source": [
        "# what does sentiment distribution look like for various airlines?\n",
        "ax = sns.countplot(x=\"airline_sentiment\",hue='airline', data=df)"
      ],
      "execution_count": 6,
      "outputs": [
        {
          "output_type": "display_data",
          "data": {
            "image/png": "[encoded data removed]",
            "text/plain": [
              "<Figure size 432x288 with 1 Axes>"
            ]
          },
          "metadata": {
            "tags": []
          }
        }
      ]
    },
    {
      "cell_type": "code",
      "metadata": {
        "id": "9VpeVtkHhIdx",
        "colab_type": "code",
        "colab": {
          "base_uri": "https://localhost:8080/",
          "height": 604
        },
        "outputId": "e89f77a9-fabd-4ef7-9286-7ebf415d3a8f"
      },
      "source": [
        "# what's the distribution look like for the negative reason?\n",
        "ax = sns.countplot(x='negativereason',data=df)\n",
        "ax.set_xticklabels(ax.get_xticklabels(), rotation=90)"
      ],
      "execution_count": 7,
      "outputs": [
        {
          "output_type": "execute_result",
          "data": {
            "text/plain": [
              "[Text(0, 0, 'Bad Flight'),\n",
              " Text(0, 0, \"Can't Tell\"),\n",
              " Text(0, 0, 'Late Flight'),\n",
              " Text(0, 0, 'Customer Service Issue'),\n",
              " Text(0, 0, 'Flight Booking Problems'),\n",
              " Text(0, 0, 'Lost Luggage'),\n",
              " Text(0, 0, 'Flight Attendant Complaints'),\n",
              " Text(0, 0, 'Cancelled Flight'),\n",
              " Text(0, 0, 'Damaged Luggage'),\n",
              " Text(0, 0, 'longlines')]"
            ]
          },
          "metadata": {
            "tags": []
          },
          "execution_count": 7
        },
        {
          "output_type": "display_data",
          "data": {
            "image/png": "[encoded data removed]",
            "text/plain": [
              "<Figure size 432x288 with 1 Axes>"
            ]
          },
          "metadata": {
            "tags": []
          }
        }
      ]
    },
    {
      "cell_type": "markdown",
      "metadata": {
        "id": "Ddg3W_pUpJ44",
        "colab_type": "text"
      },
      "source": [
        "Some takeaways from EDA:\n",
        "- There are a lot more negative tweets than positive and neutral ones. \n",
        "- United has the most negative tweets amongst the different airlines\n",
        "- The most common reason for a negative Tweet was a customer service issue."
      ]
    },
    {
      "cell_type": "markdown",
      "metadata": {
        "id": "xtIGKGl-XQAr",
        "colab_type": "text"
      },
      "source": [
        "# Fine-tune the language model to the target dataset"
      ]
    },
    {
      "cell_type": "markdown",
      "metadata": {
        "id": "i1m6nnkVXree",
        "colab_type": "text"
      },
      "source": [
        "Now, we need to tune the pretrained language model to the particular dataset. In this case, that's the Twitter US Airline Sentiment dataset from Kaggle. \n",
        "\n",
        "Before actually fine-tuning the model, it would be helpful to do some **domain-specific preprocessing** so that our language model can extract the best signal from the text that it's given. For example, with a Twitter dataset, there are often extraneous characters like '#' and '@' which **may** detract from the signal to predict the next word of a particular phrase/sentence. This isn't for certain, as characters like hashtags **could** provide a better signal for predicting  the next word, as well as the sentiment. These formulations are somewhat abstract, and experimentation is the best way to gain more insight. **Remember, the better our fine-tuned language model, the better our results will be.** So what's the best way to preprocess our twitter data? "
      ]
    },
    {
      "cell_type": "markdown",
      "metadata": {
        "id": "PCWGFOlwflhT",
        "colab_type": "text"
      },
      "source": [
        "### Preprocessing the Twitter data"
      ]
    },
    {
      "cell_type": "markdown",
      "metadata": {
        "id": "qnG13JwXnW_1",
        "colab_type": "text"
      },
      "source": [
        "Luckily, others have already investigated Twitter preprocessing techniques for us! In fact, there's been research conducted to determine what techniques in Tweet preprocessing have lead to better results in sentiment analysis: Dimotrios Effrosynidis wrote a paper called \"A Comparison of Pre-processing Techniques for Twitter Sentiment Analysis. And the best part is that he open sourced his code for us to use.\n",
        "\n",
        "**It's completely okay for us to reuse other people's work in order to produce the best results that we can, as long as we properly cite their work.**"
      ]
    },
    {
      "cell_type": "markdown",
      "metadata": {
        "id": "rpxG8dU-PNLH",
        "colab_type": "text"
      },
      "source": [
        "Let's define some functions to preprocess the text data. The decisions in which to preprocess were based on intuitions (for example, our assumption is that removing a hashtag would reduce noise and improve signal), as well as research paper results (removing numbers, replacing urls, and replacing user mentions were shown to improve accuracy on Twitter Sentiment Analysis)."
      ]
    },
    {
      "cell_type": "code",
      "metadata": {
        "id": "qYc4l5zEQ3fA",
        "colab_type": "code",
        "colab": {}
      },
      "source": [
        "import re\n",
        "\n",
        "def removeUnicode(text):\n",
        "  \"\"\" Removes unicode strings like \"\\u002c\" and \"x96\" \"\"\"\n",
        "  text = re.sub(r'(\\\\u[0-9A-Fa-f]+)',r'', text)       \n",
        "  text = re.sub(r'[^\\x00-\\x7f]',r'',text)\n",
        "  return text\n",
        "  \n",
        "def replaceURL(text):\n",
        "  \"\"\"Replaces url address with \"url\" \"\"\"\n",
        "  text = re.sub('((www\\.[^\\s]+)|(https?://[^\\s]+))','url',text)\n",
        "  text = re.sub(r'#([^\\s]+)', r'\\1', text)\n",
        "  return text\n",
        "\n",
        "def replaceAtUser(text):\n",
        "  \"\"\" Replaces \"@user\" with \"atUser\" \"\"\"\n",
        "  # text = re.sub('@[^\\s]+','atUser',text)\n",
        "  text = re.sub('@[^\\s]+','',text)\n",
        "  return text\n",
        "\n",
        "def removeHashtagInFrontOfWord(text):\n",
        "  \"\"\" Removes hastag in front of a word \"\"\"\n",
        "  text = re.sub(r'#([^\\s]+)', r'\\1', text)\n",
        "  return text\n",
        "\n",
        "def removeNumbers(text):\n",
        "  \"\"\" Removes integers \"\"\"\n",
        "  text = ''.join([i for i in text if not i.isdigit()])         \n",
        "  return text\n",
        "\n",
        "def removeEmoticons(text):\n",
        "  \"\"\" Removes emoticons from text \"\"\"\n",
        "  text = re.sub(':\\)|;\\)|:-\\)|\\(-:|:-D|=D|:P|xD|X-p|\\^\\^|:-*|\\^\\.\\^|\\^\\-\\^|\\^\\_\\^|\\,-\\)|\\)-:|:\\'\\(|:\\(|:-\\(|:\\S|T\\.T|\\.\\_\\.|:<|:-\\S|:-<|\\*\\-\\*|:O|=O|=\\-O|O\\.o|XO|O\\_O|:-\\@|=/|:/|X\\-\\(|>\\.<|>=\\(|D:', '', text)\n",
        "  return text\n",
        "\n",
        "\n",
        "\"\"\" Replaces contractions from a string to their equivalents \"\"\"\n",
        "contraction_patterns = [ (r'won\\'t', 'will not'), (r'can\\'t', 'cannot'), (r'i\\'m', 'i am'), (r'ain\\'t', 'is not'), (r'(\\w+)\\'ll', '\\g<1> will'), (r'(\\w+)n\\'t', '\\g<1> not'),\n",
        "                         (r'(\\w+)\\'ve', '\\g<1> have'), (r'(\\w+)\\'s', '\\g<1> is'), (r'(\\w+)\\'re', '\\g<1> are'), (r'(\\w+)\\'d', '\\g<1> would'), (r'&', 'and'), (r'dammit', 'damn it'), (r'dont', 'do not'), (r'wont', 'will not') ]\n",
        "def replaceContraction(text):\n",
        "  patterns = [(re.compile(regex), repl) for (regex, repl) in contraction_patterns]\n",
        "  for (pattern, repl) in patterns:\n",
        "      (text, count) = re.subn(pattern, repl, text)\n",
        "  return text"
      ],
      "execution_count": 0,
      "outputs": []
    },
    {
      "cell_type": "markdown",
      "metadata": {
        "id": "l3XZNgPBQ3W4",
        "colab_type": "text"
      },
      "source": [
        "Now, we'll preprocess our dataframe, split it into training and testing sets, and export it to csv's which we can later import in order to fine-tune our language model."
      ]
    },
    {
      "cell_type": "code",
      "metadata": {
        "id": "g8y-6wgGQyr0",
        "colab_type": "code",
        "colab": {}
      },
      "source": [
        "def preprocessTwitterData(df):\n",
        "  \"\"\"Function to apply text preprocessing functions to a dataframe\"\"\"\n",
        "  \n",
        "  # remove unicode\n",
        "  df['text'] = df['text'].apply(removeUnicode)\n",
        "  \n",
        "  # replace url\n",
        "  df['text'] = df['text'].apply(replaceURL)\n",
        "  \n",
        "  # replace '@' signs\n",
        "  df['text'] = df['text'].apply(replaceAtUser)\n",
        "  \n",
        "  \n",
        "  # replace hastags\n",
        "  df['text'] = df['text'].apply(removeHashtagInFrontOfWord)\n",
        "  \n",
        "  # remove numbers in the tweets\n",
        "  df['text'] = df['text'].apply(removeNumbers)\n",
        "  \n",
        "  # remove the emoticons\n",
        "  df['text'] = df['text'].apply(removeEmoticons)\n",
        "  \n",
        "  # replace contractions\n",
        "  df['text'] = df['text'].apply(replaceContraction)\n",
        "  \n",
        "# Call the function and preprocess the data  \n",
        "preprocessTwitterData(df)\n",
        "\n",
        "# Since we don't need the rest of the columns in the data, subindex the\n",
        "# relevant columns and make this the new dataframe\n",
        "df = df[['text','airline_sentiment']]\n",
        "\n",
        "# Split the dataset into a train and test set.\n",
        "# Using a validation set is built into the fastai\n",
        "# API, so we don't need to do this split ourselves\n",
        "\n",
        "# use an 80-20 split for the train and test sets\n",
        "from sklearn.model_selection import train_test_split\n",
        "df_train, df_test = train_test_split(df,test_size=0.1,random_state=20)\n",
        "\n",
        "# Convert the cleaned training and testing data\n",
        "# into their own CSV files which we can import\n",
        "# later to perform modeling on them\n",
        "\n",
        "# these lines write CSV files to our current directory\n",
        "df_train.to_csv('twitter_data_cleaned_train.csv')\n",
        "df_test.to_csv('twitter_data_cleaned_test.csv')\n"
      ],
      "execution_count": 0,
      "outputs": []
    },
    {
      "cell_type": "markdown",
      "metadata": {
        "id": "muvuYLnNmV4R",
        "colab_type": "text"
      },
      "source": [
        "## Converting the dataset to the appropriate form"
      ]
    },
    {
      "cell_type": "markdown",
      "metadata": {
        "id": "3bKN9i9Pmmjd",
        "colab_type": "text"
      },
      "source": [
        "Now that we've preprocessed the data and split it into a training and a testing set, we need to get our data in a form that fastai can work with.\n",
        "\n",
        "In particular, the fastai operates with a class called a DataBunch, which is an efficient, convenient way of tying in the processes of data loading, data batchifying, and data transforming. Jeremy Howard (author of fastai) then creates custom classes that inherit from the DataBunch that can customize these processes for different deep learning tasks, such as vision, text, tabular data, etc. Howard goes through the from-scratch implementations in his fast.ai course, so definitely check that out for more detail (DataBunch can actually do more than we're describing here).\n",
        "\n",
        "In this case, we'll be using the \"TextLMDataBunch\" class to wrap our Twitter data and get it ready to put into our pretrained language model:"
      ]
    },
    {
      "cell_type": "code",
      "metadata": {
        "id": "J_J5O9W9ibBq",
        "colab_type": "code",
        "colab": {
          "base_uri": "https://localhost:8080/",
          "height": 313
        },
        "outputId": "efd67348-99f9-4830-92a7-9bcdd473c6e2"
      },
      "source": [
        "# import everything from the fastai.text lib\n",
        "from fastai.text import *\n",
        "\n",
        "# create a 'TextLMDataBunch' from a csv file.\n",
        "# We specify 'valid=0.1' to signify that when we want to\n",
        "# actually put this into our language model, we'll be setting\n",
        "# off 10% of it for a validation set\n",
        "data_lm = TextLMDataBunch.from_csv(path='',csv_name='twitter_data_cleaned_train.csv',valid_pct=0.1)\n",
        "\n",
        "# run this to see how the batch looks like\n",
        "data_lm.show_batch()"
      ],
      "execution_count": 10,
      "outputs": [
        {
          "output_type": "display_data",
          "data": {
            "text/html": [
              "<table border=\"1\" class=\"dataframe\">\n",
              "  <thead>\n",
              "    <tr style=\"text-align: right;\">\n",
              "      <th>idx</th>\n",
              "      <th>text</th>\n",
              "    </tr>\n",
              "  </thead>\n",
              "  <tbody>\n",
              "    <tr>\n",
              "      <td>0</td>\n",
              "      <td>not heard back and i 'm flying this week disappointed xxbos xxmaj could not use the confirmed upgd cert you gave me b / c you decided to sell anyone a biz seat for $ . xxmaj why do you bother giving them ? xxbos xxmaj for my xxmaj grandma xxmaj ella is th , she would love a birthday greeting from your flight crew ! xxmaj she was a</td>\n",
              "    </tr>\n",
              "    <tr>\n",
              "      <td>1</td>\n",
              "      <td>going to some other city and getting to xxup ny sometime on xxmaj we d ? ! i 'm sorry that is not gon na cut xxbos trying to get through to cust relations . xxmaj is there another # to use ? xxbos thanks ! xxbos xxmaj love your airline ... hate your website . xxmaj just tried to book tickets ( w miles , w / out )</td>\n",
              "    </tr>\n",
              "    <tr>\n",
              "      <td>2</td>\n",
              "      <td>cleveland xxmaj xxunk xxmaj airport . xxmaj please xxmaj help xxbos i understand delays . xxmaj we are all looking at a tv monitor at ur gate and it says current conditions are snow , hence delay . xxbos xxmaj how is it possible that your call system can refuse callers for over twelve hours ? xxmaj what service options does that leave ? xxbos free hotel does not make</td>\n",
              "    </tr>\n",
              "    <tr>\n",
              "      <td>3</td>\n",
              "      <td>could you please help ? xxbos how can i check to see if my flight to xxup nyc is expected to be delayed or xxmaj cancelled xxmaj flightled for this xxmaj tuesday ? xxbos i left an item on the plane and have been calling non stop and no one has been answering can you please help xxbos need to learn operations . xxmaj sit a plane overnight at gsp</td>\n",
              "    </tr>\n",
              "    <tr>\n",
              "      <td>4</td>\n",
              "      <td>first ! xxbos xxmaj got flight reschedule to flight form xxup pit to xxup fll and our flight had mechanical problems so we were delayed an hour xxmaj missed my connect xxbos would love help getting there today . xxmaj in xxup ewr now . xxmaj will take any airline and connections . xxmaj thx xxbos xxmaj how is xxmaj dallas incoming looking ? i 'm scheduled to fly in</td>\n",
              "    </tr>\n",
              "  </tbody>\n",
              "</table>"
            ],
            "text/plain": [
              "<IPython.core.display.HTML object>"
            ]
          },
          "metadata": {
            "tags": []
          }
        }
      ]
    },
    {
      "cell_type": "markdown",
      "metadata": {
        "id": "dtyGHyG0rzgM",
        "colab_type": "text"
      },
      "source": [
        "This is what a \"batch\" looks like from our 'TextLMDataBunch' object. We can see that there are tags within the text such as 'xxbos' and 'xxunk'. These are tokens that are included in the vocabulary of the language model ('xxbos' signifies the beginning of a sentence, for example), and so they capture information that may assist in the effectiveness of the language model itself.\n",
        "\n",
        "There are other advanced tokenization techniques that are implemented in the fastai library, we won't discuss them in detail here. Details can be found at the source code for fastai."
      ]
    },
    {
      "cell_type": "markdown",
      "metadata": {
        "id": "FP7ZIDDBttah",
        "colab_type": "text"
      },
      "source": [
        "Now we'll pass our Twitter data into something called the 'language_model_learner' class, which inherits from the 'learner' class in fastai. This is fastai's way of training models: it takes in **callback** functions that can \"call\" back to to other parts of the fastai library, such as specific training techniques (gradient clipping, discriminative learning rates, etc.). \n",
        "\n",
        "**Using this language_model_learner class is key to applying some of the novel techniques that the ULMFiT paper proposes.**"
      ]
    },
    {
      "cell_type": "code",
      "metadata": {
        "id": "pxvtK5NZxC_-",
        "colab_type": "code",
        "colab": {}
      },
      "source": [
        "# pass in our 'data_lm' objet to specify our Twitter data\n",
        "# pass in AWD_LSTM to specify that we're using this particular\n",
        "# language model\n",
        "# pass in drop_mult=0.4 to specify that our dropouts for the model\n",
        "# are with p = 0.3\n",
        "learn = language_model_learner(data_lm, AWD_LSTM, drop_mult=0.3)"
      ],
      "execution_count": 0,
      "outputs": []
    },
    {
      "cell_type": "markdown",
      "metadata": {
        "id": "hOdFlQUQ0qV2",
        "colab_type": "text"
      },
      "source": [
        "What happened when we ran this line of code? Let's see how our model looks like now."
      ]
    },
    {
      "cell_type": "code",
      "metadata": {
        "id": "u5l6m6aPzrSX",
        "colab_type": "code",
        "colab": {
          "base_uri": "https://localhost:8080/",
          "height": 504
        },
        "outputId": "0dea6724-ebd4-40ca-cea9-544268fbee03"
      },
      "source": [
        "learn.model"
      ],
      "execution_count": 12,
      "outputs": [
        {
          "output_type": "execute_result",
          "data": {
            "text/plain": [
              "SequentialRNN(\n",
              "  (0): AWD_LSTM(\n",
              "    (encoder): Embedding(5232, 400, padding_idx=1)\n",
              "    (encoder_dp): EmbeddingDropout(\n",
              "      (emb): Embedding(5232, 400, padding_idx=1)\n",
              "    )\n",
              "    (rnns): ModuleList(\n",
              "      (0): WeightDropout(\n",
              "        (module): LSTM(400, 1152, batch_first=True)\n",
              "      )\n",
              "      (1): WeightDropout(\n",
              "        (module): LSTM(1152, 1152, batch_first=True)\n",
              "      )\n",
              "      (2): WeightDropout(\n",
              "        (module): LSTM(1152, 400, batch_first=True)\n",
              "      )\n",
              "    )\n",
              "    (input_dp): RNNDropout()\n",
              "    (hidden_dps): ModuleList(\n",
              "      (0): RNNDropout()\n",
              "      (1): RNNDropout()\n",
              "      (2): RNNDropout()\n",
              "    )\n",
              "  )\n",
              "  (1): LinearDecoder(\n",
              "    (decoder): Linear(in_features=400, out_features=5232, bias=True)\n",
              "    (output_dp): RNNDropout()\n",
              "  )\n",
              ")"
            ]
          },
          "metadata": {
            "tags": []
          },
          "execution_count": 12
        }
      ]
    },
    {
      "cell_type": "markdown",
      "metadata": {
        "id": "dXywGmqT00Ju",
        "colab_type": "text"
      },
      "source": [
        "Most of this should look familiar if you're familiar with the AWD-LSTM. To review:\n",
        "\n",
        "- **Embedding dropout** randomly takes out certain embedding vectors\n",
        "- **Weight dropout** randomly drops out weights of the hidden-to-hidden states in the LSTM\n",
        "- **RNN Dropout** refers to the **variational dropout** that is applies the same dropout mask to every input to a LSTM cell (this can refer to the inputs in the actual input sequence, or the output from a LSTM cell to another LSTM cell)\n",
        "\n",
        "There's a Linear decoder (an embedding layer), 3 LSTM layers, and a linear decoder that maps the last hidden state to a softmax layer with all the vocab words. **The weights between the linear encoder and linear decoder (embedding layer and softmax layer) are tied.**\n",
        "\n",
        "More details, of course, can be found in Stephen Merity's paper.\n",
        "\n",
        "The one part that has changed is the actual embedding matrix itself. With the language model trained on Wikitext 103, there was a vocab size of over 200,000. Now, the vocab size has adjusted to a much lower size. What happened here?\n",
        "\n",
        "Obviously, words that are not in the Twitter dataset are deleted, as they have no use. As for words that are in the Twitter dataset but not the Wiki dataset, **they're assigned the mean across all the rows of the Wikitext embeddings.**"
      ]
    },
    {
      "cell_type": "markdown",
      "metadata": {
        "id": "QVTMT-N4Ml4w",
        "colab_type": "text"
      },
      "source": [
        "## Optimal learning rate finding"
      ]
    },
    {
      "cell_type": "markdown",
      "metadata": {
        "id": "qmVRu3De6iB0",
        "colab_type": "text"
      },
      "source": [
        "Now we can start fine-tuning the model with some of the techniques outlined by Jeremy Howard and Sebastien Ruder. \n",
        "\n",
        "First we use the fastai learning rate finder to find an **optimal learning rate** given our dataset. \n",
        "\n",
        "The idea behind this is that we start with a really low learning rate, and use it to train our language model. We then record the loss, and repeat the process with increasingly high learning rates. If we plot the loss against the learning rate, we will see that there's a point where the loss starts to increase rapidly:"
      ]
    },
    {
      "cell_type": "code",
      "metadata": {
        "id": "f19S234U0k3I",
        "colab_type": "code",
        "colab": {
          "base_uri": "https://localhost:8080/",
          "height": 34
        },
        "outputId": "cb2155ed-f08a-4d0b-d5a5-e28504877f6b"
      },
      "source": [
        "# fastai learning-rate finding\n",
        "# implemented using fastai callbacks\n",
        "learn.lr_find()"
      ],
      "execution_count": 13,
      "outputs": [
        {
          "output_type": "display_data",
          "data": {
            "text/html": [
              ""
            ],
            "text/plain": [
              "<IPython.core.display.HTML object>"
            ]
          },
          "metadata": {
            "tags": []
          }
        },
        {
          "output_type": "stream",
          "text": [
            "LR Finder is complete, type {learner_name}.recorder.plot() to see the graph.\n"
          ],
          "name": "stdout"
        }
      ]
    },
    {
      "cell_type": "code",
      "metadata": {
        "id": "RVK0lcVH_GWS",
        "colab_type": "code",
        "colab": {
          "base_uri": "https://localhost:8080/",
          "height": 291
        },
        "outputId": "8017cb2a-0dfb-4d4a-d795-95797d1706c6"
      },
      "source": [
        "# plot the graph we were talking about earlier\n",
        "learn.recorder.plot()"
      ],
      "execution_count": 14,
      "outputs": [
        {
          "output_type": "display_data",
          "data": {
            "image/png": "[encoded data removed]",
            "text/plain": [
              "<Figure size 432x288 with 1 Axes>"
            ]
          },
          "metadata": {
            "tags": []
          }
        }
      ]
    },
    {
      "cell_type": "markdown",
      "metadata": {
        "id": "moIWUBYyK-Q9",
        "colab_type": "text"
      },
      "source": [
        " The fact that the loss starts to increase rapidly makes sense at a certain point makes sense: **if we perform gradient descent steps that are too large, we will overshoot the minima on the cost function.** "
      ]
    },
    {
      "cell_type": "markdown",
      "metadata": {
        "id": "P-wPRZnrx49W",
        "colab_type": "text"
      },
      "source": [
        "According to [this](https://sgugger.github.io/how-do-you-find-a-good-learning-rate.html) article by Sylvain Gugger of fast.ai, it's better to pick a learning rate that isn't at the minimum, but just before the minimum. This makes sense as well, since picking the learning rate at the minimum is likely to already be too high (it's just before the loss starts to move out of control).\n",
        "\n",
        "Looking at our graph, it makes sense to pick something slightly smaller than 6e-1."
      ]
    },
    {
      "cell_type": "markdown",
      "metadata": {
        "id": "m0qiS95rzxuG",
        "colab_type": "text"
      },
      "source": [
        "## The 1cycle policy"
      ]
    },
    {
      "cell_type": "markdown",
      "metadata": {
        "id": "dlUCsy9P1U4h",
        "colab_type": "text"
      },
      "source": [
        "But what's the point of finding this learning rate? Howard and Ruder have adopted an advanced technique from Leslie Smith's paper \"A Disciplined Approach to Neural Network Hyper-parameters: Part 1 - Learning Rate, Batch Size, Momentum, and Weight Decay\" called the **1cycle policy**. \n",
        "\n",
        "The 1cycle policy needs **maximum learning rate**, which we gradually approach throughout the learning process by starting at a learning rate of (max_learning_rate/dividing_factor), and then multiplying by some factor until we get to max_learning_rate. Once we get there, we gradually decrease the learning rate until we get back to max_learning_rate/dividing_factor. The approach is the same with a minimum and maximum momentum, except we essentially do the opposite. Look at the image below to see a graphical representation:"
      ]
    },
    {
      "cell_type": "code",
      "metadata": {
        "id": "Na3BalYk6COe",
        "colab_type": "code",
        "colab": {
          "base_uri": "https://localhost:8080/",
          "height": 349
        },
        "outputId": "422a4613-3b74-43bc-9a09-e23857e3663b"
      },
      "source": [
        "from IPython.display import Image\n",
        "Image(base_dir + 'onecycle_params.png')"
      ],
      "execution_count": 15,
      "outputs": [
        {
          "output_type": "execute_result",
          "data": {
            "image/png": "[encoded data removed]",
            "text/plain": [
              "<IPython.core.display.Image object>"
            ]
          },
          "metadata": {
            "tags": []
          },
          "execution_count": 15
        }
      ]
    },
    {
      "cell_type": "markdown",
      "metadata": {
        "id": "p9NzF2Rm90XF",
        "colab_type": "text"
      },
      "source": [
        "This optimization technique has theoretical grounds, but we won't get into the details of that here. **The most important thing, for our purposes, is that the approach tends to get us the best results with ULMFiT.**"
      ]
    },
    {
      "cell_type": "markdown",
      "metadata": {
        "id": "hSq0J9Ay-fDE",
        "colab_type": "text"
      },
      "source": [
        "## Slanted triangular learning rates"
      ]
    },
    {
      "cell_type": "markdown",
      "metadata": {
        "id": "svU5C_Oi-Dee",
        "colab_type": "text"
      },
      "source": [
        "In practice, Howard/Ruder use a slight modification of the 1cycle policy called **slanted triangular learning rates**. The approach is very similar to that of the 1cycle policy, except that the learning rate increases rapidly at the beginning of the training process, and then decays slowly once it hits the maximum. Look at the image below:"
      ]
    },
    {
      "cell_type": "code",
      "metadata": {
        "id": "fdKeIE4WAxt4",
        "colab_type": "code",
        "colab": {
          "base_uri": "https://localhost:8080/",
          "height": 418
        },
        "outputId": "7ee9e976-ee4b-41f2-d4d5-163ccc7b6467"
      },
      "source": [
        "Image(base_dir+'slanted-triangular-lr.png')"
      ],
      "execution_count": 16,
      "outputs": [
        {
          "output_type": "execute_result",
          "data": {
            "image/png": "[encoded data removed]",
            "text/plain": [
              "<IPython.core.display.Image object>"
            ]
          },
          "metadata": {
            "tags": []
          },
          "execution_count": 16
        }
      ]
    },
    {
      "cell_type": "markdown",
      "metadata": {
        "id": "sTpDZk2KD3N1",
        "colab_type": "text"
      },
      "source": [
        "fastai provides us with an easy way of using this custom optimization technique with the function 'fit_one_cycle'. In the fastai library, this function is implemented using callbacks, more specifically a **learning rate scheduler**.\n",
        "\n",
        "So, we don't have to take care of the actual implementation of slanted triangular learning rates ourselves. "
      ]
    },
    {
      "cell_type": "markdown",
      "metadata": {
        "id": "AryVB65gGe0j",
        "colab_type": "text"
      },
      "source": [
        "### Getting back to the big picture"
      ]
    },
    {
      "cell_type": "markdown",
      "metadata": {
        "id": "acCt0YN_Gk4j",
        "colab_type": "text"
      },
      "source": [
        "Let's get back to the big picture. What have we done so far? We've loaded in a pretrained language model, and prepared to fine-tune it to the Twitter dataset by modifying the embedding matrix.  \n",
        "\n",
        "We picked an **optimal learning rate** and a customized learning rate adjustment technique, but what are we training again? Recall that **we have new entries in our embedding matrix** that need to be trained. The ULMFiT approach calls for **freezing the LSTM layers**, and then slightly training the embedding layer.\n",
        "\n",
        "When we load into the Learner, the 3 LSTM layers are already frozen for us, so to do this, we only need to run one line of code:"
      ]
    },
    {
      "cell_type": "code",
      "metadata": {
        "id": "cTmjf81R_OLq",
        "colab_type": "code",
        "colab": {
          "base_uri": "https://localhost:8080/",
          "height": 77
        },
        "outputId": "5a8dd989-3c54-4928-f958-85be33d30020"
      },
      "source": [
        "# as discussed before, we choose '5e-1' as the maximum LR because it's\n",
        "# slightly larger than the minimum loss LR.\n",
        "# We set cycle_len to 1 because we only train with one epoch\n",
        "# 'moms' refers to a tuple with the form (max_momentum,min_momentum)\n",
        "learn.fit_one_cycle(cyc_len=1,max_lr=1e-2,moms=(0.85,0.75))"
      ],
      "execution_count": 17,
      "outputs": [
        {
          "output_type": "display_data",
          "data": {
            "text/html": [
              "<table border=\"1\" class=\"dataframe\">\n",
              "  <thead>\n",
              "    <tr style=\"text-align: left;\">\n",
              "      <th>epoch</th>\n",
              "      <th>train_loss</th>\n",
              "      <th>valid_loss</th>\n",
              "      <th>accuracy</th>\n",
              "      <th>time</th>\n",
              "    </tr>\n",
              "  </thead>\n",
              "  <tbody>\n",
              "    <tr>\n",
              "      <td>0</td>\n",
              "      <td>4.739350</td>\n",
              "      <td>4.212881</td>\n",
              "      <td>0.233769</td>\n",
              "      <td>00:08</td>\n",
              "    </tr>\n",
              "  </tbody>\n",
              "</table>"
            ],
            "text/plain": [
              "<IPython.core.display.HTML object>"
            ]
          },
          "metadata": {
            "tags": []
          }
        }
      ]
    },
    {
      "cell_type": "markdown",
      "metadata": {
        "id": "m_1fQvqqI0ss",
        "colab_type": "text"
      },
      "source": [
        "## Unfreeze the model, and apply discriminative fine-tuning"
      ]
    },
    {
      "cell_type": "markdown",
      "metadata": {
        "id": "dVizA5mNI9G_",
        "colab_type": "text"
      },
      "source": [
        "Now that we've trained the embedding matrix with one epoch (we train with one epoch to **avoid too much forgetting**), we can **unfreeze the model**. This means that we allow all layers of the model to be trained. \n",
        "\n",
        "Now that we've unfreezed the model, the **LSTM layers** of the pretrained language model can be trained. To fine-tune the language model (as well as the classifier, for that matter), Howard and Ruder use something called **discriminative fine-tuning**. \n",
        "\n",
        "In transfer learning, the idea is that each layer of the neural network contain **distinct types of information**. Based on this, Howard and Ruder claim that the different layers should be fine-tuned to different extents, and so require different learning rates during training.\n",
        "\n",
        "This is where **discriminative learning rates** come in. In practice, Howard/Ruder fine tune the last layer first (as we did) and then the learning rate for every previous layer should be divided by 2.6. \n",
        "\n",
        "Using fastai's easy-to-use API, we can unfreeze the model, and apply both the 1cycle policy and discriminative layer fine-tuning:"
      ]
    },
    {
      "cell_type": "code",
      "metadata": {
        "id": "g8JErnO9ADNT",
        "colab_type": "code",
        "colab": {
          "base_uri": "https://localhost:8080/",
          "height": 195
        },
        "outputId": "7ab021be-3cc7-4169-f169-ecb61de764ff"
      },
      "source": [
        "# unfreeze the LSTM layers of the model\n",
        "learn.unfreeze()\n",
        "\n",
        "# apply 1cycle policy and discriminative layer fine-tuning.\n",
        "# Look up 'slice' for more information, but passing in this\n",
        "# slice essentially starts the first layer at the learning rate\n",
        "# we would get by dividing the last-layer learning rate by\n",
        "# 2.6 four times, as there are four layers before the last layer.\n",
        "# Since we're applying both, keep in mind that these are just the\n",
        "# MAXIMUM learning rates that are set for each layer and each\n",
        "# layer is still trained with slanted triangular learning rates\n",
        "# throughout the course of each epoch. It's just that each layer\n",
        "# in the network uses a DIFFERENT max_lr during training.\n",
        "learn.fit_one_cycle(cyc_len=5, max_lr=slice(1e-2/(2.6**4),1e-2), moms=(0.85, 0.75))"
      ],
      "execution_count": 18,
      "outputs": [
        {
          "output_type": "display_data",
          "data": {
            "text/html": [
              "<table border=\"1\" class=\"dataframe\">\n",
              "  <thead>\n",
              "    <tr style=\"text-align: left;\">\n",
              "      <th>epoch</th>\n",
              "      <th>train_loss</th>\n",
              "      <th>valid_loss</th>\n",
              "      <th>accuracy</th>\n",
              "      <th>time</th>\n",
              "    </tr>\n",
              "  </thead>\n",
              "  <tbody>\n",
              "    <tr>\n",
              "      <td>0</td>\n",
              "      <td>4.132862</td>\n",
              "      <td>3.942438</td>\n",
              "      <td>0.262851</td>\n",
              "      <td>00:12</td>\n",
              "    </tr>\n",
              "    <tr>\n",
              "      <td>1</td>\n",
              "      <td>3.893206</td>\n",
              "      <td>3.801945</td>\n",
              "      <td>0.278954</td>\n",
              "      <td>00:12</td>\n",
              "    </tr>\n",
              "    <tr>\n",
              "      <td>2</td>\n",
              "      <td>3.562617</td>\n",
              "      <td>3.780383</td>\n",
              "      <td>0.287755</td>\n",
              "      <td>00:12</td>\n",
              "    </tr>\n",
              "    <tr>\n",
              "      <td>3</td>\n",
              "      <td>3.191429</td>\n",
              "      <td>3.819312</td>\n",
              "      <td>0.289668</td>\n",
              "      <td>00:12</td>\n",
              "    </tr>\n",
              "    <tr>\n",
              "      <td>4</td>\n",
              "      <td>2.886843</td>\n",
              "      <td>3.877639</td>\n",
              "      <td>0.285746</td>\n",
              "      <td>00:13</td>\n",
              "    </tr>\n",
              "  </tbody>\n",
              "</table>"
            ],
            "text/plain": [
              "<IPython.core.display.HTML object>"
            ]
          },
          "metadata": {
            "tags": []
          }
        }
      ]
    },
    {
      "cell_type": "markdown",
      "metadata": {
        "id": "lK81-iwbTmEr",
        "colab_type": "text"
      },
      "source": [
        "We've officially taken the steps to fine-tune our language model! \n",
        "\n",
        "But our original task was to predict sentiment based on a tweet. This was the whole premise behind our transfer learning process! Recall that with neural networks, we can stack layers on top of each other, and change the last layer to fit our target task: this is what we're going to do with our language model. The **encoding layers** are going to be used to capture meaningful features of a particular phrase, and after this is done, instead of using the last layer to predict the next word (which was our embedding decoder), we're going to add on two linear neural layers, **as we would with a typical, supervised machine learning problem**. \n",
        "\n",
        "Let's save our encoder (because this is what we need), and move onto tuning the model to the target task, which is predicting the sentiment based on a particular tweet."
      ]
    },
    {
      "cell_type": "code",
      "metadata": {
        "id": "18YlkRMeASQR",
        "colab_type": "code",
        "colab": {}
      },
      "source": [
        "# save the encoder \n",
        "learn.save_encoder('encoder')"
      ],
      "execution_count": 0,
      "outputs": []
    },
    {
      "cell_type": "markdown",
      "metadata": {
        "id": "LOVS188nYeN6",
        "colab_type": "text"
      },
      "source": [
        "# Target task Classifier fine-tuning"
      ]
    },
    {
      "cell_type": "markdown",
      "metadata": {
        "id": "ZgjV7jP4lpHf",
        "colab_type": "text"
      },
      "source": [
        "## Getting data into appropriate form"
      ]
    },
    {
      "cell_type": "markdown",
      "metadata": {
        "id": "HfbojWQ5Ykcf",
        "colab_type": "text"
      },
      "source": [
        "Like we did before, we need to convert the data into a form that we can use. The difference here is that instead of predicting the next word in a sentence, we're predicting the sentiment based on the Tweet. Fastai uses a class called 'TextClasDataBunch'. \n",
        "\n",
        "'TextClasDataBunch' preprocesses the text with essentially the same methodology as the 'TextLMDataBunch'. The only difference is with the actual batching that feeds into our classifier. The process that fastai uses is somewhat complex, but we'll go over it briefly. Our goal is to gain the intuitions behind these methods so that we can eventually add extensions as well as apply them to other problems. \n",
        "\n",
        "The issue that before, we only cared about predicting the next word in a particular phrase. Thus, at times, we put in batches of sentences that may have included parts from more than one tweet (we had constant minibatch sizes). With this classifier, we need to group each tweet with the correct sentence, and so we need to add some **padding tokens** to make each tensor rectangular. \n",
        "\n",
        "However, this could be problematic, because we might a very short Tweet with a large amount of padding tokens followed by a very large Tweet with a small amount of padding tokens. Feeding these in consecutively will reduce computational efficiency.\n",
        "\n",
        "Howard's solution is to use something called a 'SortishSampler', which essentially makes it so larger sentences (bigger batches) are fed into the model first, and sentences of similar lengths are grouped together. There's some obviously some randomness introduced so we don't overfit to a particular order, which is a key part of **minibatch stochastic gradient descent**.\n",
        "\n",
        "Let's code this out:\n"
      ]
    },
    {
      "cell_type": "code",
      "metadata": {
        "id": "NTsBH2SYmM1s",
        "colab_type": "code",
        "colab": {
          "base_uri": "https://localhost:8080/",
          "height": 262
        },
        "outputId": "6e4a27e9-b840-451d-8f0d-c4991ded21fe"
      },
      "source": [
        "# create 'TextClasDataBunch'\n",
        "# pass in vocab to ensure the vocab is the\n",
        "# same one that was modified in the fine-tuned LM\n",
        "data_class = TextClasDataBunch.from_csv(path='',csv_name='twitter_data_cleaned_train.csv',\n",
        "                              vocab=data_lm.train_ds.vocab,bs=32,text_cols='text',label_cols='airline_sentiment')\n",
        "\n",
        "# show what our batch looks like\n",
        "data_class.show_batch(5)"
      ],
      "execution_count": 20,
      "outputs": [
        {
          "output_type": "display_data",
          "data": {
            "text/html": [
              "<table border=\"1\" class=\"dataframe\">\n",
              "  <thead>\n",
              "    <tr style=\"text-align: right;\">\n",
              "      <th>text</th>\n",
              "      <th>target</th>\n",
              "    </tr>\n",
              "  </thead>\n",
              "  <tbody>\n",
              "    <tr>\n",
              "      <td>xxbos i xxup just xxup asked xxup my xxup boyfriend xxup to xxup prom xxup over xxup the xxup xxunk xxup on xxup flight xxup he xxup said xxup yes xxrep 4 ! xxup best xxup day xxup ever ! ! ! xxup thank u xxup so xxup much xxrep 6 !</td>\n",
              "      <td>positive</td>\n",
              "    </tr>\n",
              "    <tr>\n",
              "      <td>xxbos xxmaj took a flight yesterday fron xxup tpa - xxup dfw - xxup aus . xxmaj bag went to xxup iah . xxmaj today bag went to xxup iah - xxup dfw and then back to xxup iah . xxmaj still no bag !</td>\n",
              "      <td>negative</td>\n",
              "    </tr>\n",
              "    <tr>\n",
              "      <td>xxbos xxmaj united xxmaj club team is xxup xxunk and &amp; got me a seat xxmaj late xxmaj flightr . xxmaj still , not sure why a last min xxup ual xxmaj cancelled xxmaj flightlation costs me $ yet overbooked folks get $ ?</td>\n",
              "      <td>negative</td>\n",
              "    </tr>\n",
              "    <tr>\n",
              "      <td>xxbos i left an item on plane xxup bos - xxup phl on xxmaj friday . i have called xxup phl xxup us xxmaj airways # and &amp; left msgs . xxmaj no return call what to do at this point .</td>\n",
              "      <td>negative</td>\n",
              "    </tr>\n",
              "    <tr>\n",
              "      <td>xxbos xxmaj same exact flight too . xxmaj love jetblue . xxmaj really want to fly with ya will . xxmaj but that is a little pricey for basic ( not xxmaj mint ) . xxup bos to xxup sfo .</td>\n",
              "      <td>positive</td>\n",
              "    </tr>\n",
              "  </tbody>\n",
              "</table>"
            ],
            "text/plain": [
              "<IPython.core.display.HTML object>"
            ]
          },
          "metadata": {
            "tags": []
          }
        }
      ]
    },
    {
      "cell_type": "markdown",
      "metadata": {
        "id": "UKmfgxb4lwE9",
        "colab_type": "text"
      },
      "source": [
        "## Concat pooling"
      ]
    },
    {
      "cell_type": "markdown",
      "metadata": {
        "id": "HX2Wi0R8-Kzj",
        "colab_type": "text"
      },
      "source": [
        "As a way of capturing the signal for sentiment classification, which, as Howard points out, \"may occur anywhere in the document\", the paper proposes using a technique called **concat pooling**. After the last LSTM layer, we feed in the last hidden state concatenated with the **max-pooled** and **mean-pooled** representations of the last T timesteps. \n",
        "\n",
        "Using these poolings is a way of preventing what Howard/Ruder refer to as **catastrophic forgetting**. They also aim to prevent this through something called gradual unfreezing, which is something we'll do later in this notebook.\n",
        "\n",
        "This is loaded into the first linear layer, which then feeds into the last linear layer with softmax activations. These two layers together are referred to as the **pooling linear classifier**\n",
        "\n",
        "Let's create a new learner object with the fine-tuned encoder that we had earlier."
      ]
    },
    {
      "cell_type": "code",
      "metadata": {
        "id": "Ay1mxuf0BMCT",
        "colab_type": "code",
        "colab": {
          "base_uri": "https://localhost:8080/",
          "height": 655
        },
        "outputId": "92ffa2c4-296e-4911-dca2-f20584ec9e61"
      },
      "source": [
        "# create new learner object with the 'text_classifier_learner' object.\n",
        "# The concept behind this learner is the same as the 'language_model_learner'.\n",
        "# It can similarly take in callbacks that allow us to train with special\n",
        "# optimization methods. We use a slightly bigger dropout this time\n",
        "learn = text_classifier_learner(data_class, AWD_LSTM, drop_mult=0.5)\n",
        "\n",
        "# load the fine-tuned encoder onto the learner\n",
        "learn.load_encoder('encoder')\n",
        "\n",
        "# look at the model\n",
        "learn.model"
      ],
      "execution_count": 21,
      "outputs": [
        {
          "output_type": "execute_result",
          "data": {
            "text/plain": [
              "SequentialRNN(\n",
              "  (0): MultiBatchEncoder(\n",
              "    (module): AWD_LSTM(\n",
              "      (encoder): Embedding(5232, 400, padding_idx=1)\n",
              "      (encoder_dp): EmbeddingDropout(\n",
              "        (emb): Embedding(5232, 400, padding_idx=1)\n",
              "      )\n",
              "      (rnns): ModuleList(\n",
              "        (0): WeightDropout(\n",
              "          (module): LSTM(400, 1152, batch_first=True)\n",
              "        )\n",
              "        (1): WeightDropout(\n",
              "          (module): LSTM(1152, 1152, batch_first=True)\n",
              "        )\n",
              "        (2): WeightDropout(\n",
              "          (module): LSTM(1152, 400, batch_first=True)\n",
              "        )\n",
              "      )\n",
              "      (input_dp): RNNDropout()\n",
              "      (hidden_dps): ModuleList(\n",
              "        (0): RNNDropout()\n",
              "        (1): RNNDropout()\n",
              "        (2): RNNDropout()\n",
              "      )\n",
              "    )\n",
              "  )\n",
              "  (1): PoolingLinearClassifier(\n",
              "    (layers): Sequential(\n",
              "      (0): BatchNorm1d(1200, eps=1e-05, momentum=0.1, affine=True, track_running_stats=True)\n",
              "      (1): Dropout(p=0.2)\n",
              "      (2): Linear(in_features=1200, out_features=50, bias=True)\n",
              "      (3): ReLU(inplace)\n",
              "      (4): BatchNorm1d(50, eps=1e-05, momentum=0.1, affine=True, track_running_stats=True)\n",
              "      (5): Dropout(p=0.1)\n",
              "      (6): Linear(in_features=50, out_features=3, bias=True)\n",
              "    )\n",
              "  )\n",
              ")"
            ]
          },
          "metadata": {
            "tags": []
          },
          "execution_count": 21
        }
      ]
    },
    {
      "cell_type": "markdown",
      "metadata": {
        "id": "lnQNfgpMJoqY",
        "colab_type": "text"
      },
      "source": [
        "## Gradual Unfreezing"
      ]
    },
    {
      "cell_type": "markdown",
      "metadata": {
        "id": "-F5FTBGxLk5_",
        "colab_type": "text"
      },
      "source": [
        "In order to fine-tune the model to the classifier, Howard/Ruder use a tactic called **gradual unfreezing**. According to the paper \"How transferable are features in deep neural networks\", the last layer of the neural language model contains the least information. Thus, we start off by unfreezing the last layer (recall that when we get a learner our entire model is frozen), training it, and then unfreezing the next-to-last layer, training it, and so on. \n",
        "\n",
        "As we discussed before, this prevents us from **forgetting** information that we learned from the large pretraining step. According to Howard, this is perhaps the most important step because of how much we may lose or gain from aggressive fine-tuning and gentle fine-tuning, respectively. \n",
        "\n",
        "Like our other techniques, fastai provides us with a way of gradually unfreezing the layers. Let's code this out:\n",
        "\n"
      ]
    },
    {
      "cell_type": "code",
      "metadata": {
        "id": "e2WQScEwYaKK",
        "colab_type": "code",
        "colab": {
          "base_uri": "https://localhost:8080/",
          "height": 308
        },
        "outputId": "53bfffc8-c45c-490a-946b-084286b7cd83"
      },
      "source": [
        "# find the optimal learning rate, just like before\n",
        "learn.lr_find()\n",
        "\n",
        "# graph it\n",
        "learn.recorder.plot()"
      ],
      "execution_count": 22,
      "outputs": [
        {
          "output_type": "display_data",
          "data": {
            "text/html": [
              ""
            ],
            "text/plain": [
              "<IPython.core.display.HTML object>"
            ]
          },
          "metadata": {
            "tags": []
          }
        },
        {
          "output_type": "stream",
          "text": [
            "LR Finder is complete, type {learner_name}.recorder.plot() to see the graph.\n"
          ],
          "name": "stdout"
        },
        {
          "output_type": "display_data",
          "data": {
            "image/png": "[encoded data removed]",
            "text/plain": [
              "<Figure size 432x288 with 1 Axes>"
            ]
          },
          "metadata": {
            "tags": []
          }
        }
      ]
    },
    {
      "cell_type": "code",
      "metadata": {
        "id": "nQMRrIWuYm95",
        "colab_type": "code",
        "colab": {
          "base_uri": "https://localhost:8080/",
          "height": 195
        },
        "outputId": "ecc8ce3e-be2c-4c5a-ffed-ca2446402e9c"
      },
      "source": [
        "# like we did before, we choose a learning rate before\n",
        "# the minimum of the graph and use the 1cycle policy\n",
        "learn.fit_one_cycle(5,1e-2,moms=(0.8,0.7))"
      ],
      "execution_count": 23,
      "outputs": [
        {
          "output_type": "display_data",
          "data": {
            "text/html": [
              "<table border=\"1\" class=\"dataframe\">\n",
              "  <thead>\n",
              "    <tr style=\"text-align: left;\">\n",
              "      <th>epoch</th>\n",
              "      <th>train_loss</th>\n",
              "      <th>valid_loss</th>\n",
              "      <th>accuracy</th>\n",
              "      <th>time</th>\n",
              "    </tr>\n",
              "  </thead>\n",
              "  <tbody>\n",
              "    <tr>\n",
              "      <td>0</td>\n",
              "      <td>0.708978</td>\n",
              "      <td>0.571571</td>\n",
              "      <td>0.790212</td>\n",
              "      <td>00:06</td>\n",
              "    </tr>\n",
              "    <tr>\n",
              "      <td>1</td>\n",
              "      <td>0.683751</td>\n",
              "      <td>0.521530</td>\n",
              "      <td>0.790592</td>\n",
              "      <td>00:06</td>\n",
              "    </tr>\n",
              "    <tr>\n",
              "      <td>2</td>\n",
              "      <td>0.674825</td>\n",
              "      <td>0.517836</td>\n",
              "      <td>0.799317</td>\n",
              "      <td>00:07</td>\n",
              "    </tr>\n",
              "    <tr>\n",
              "      <td>3</td>\n",
              "      <td>0.624344</td>\n",
              "      <td>0.500137</td>\n",
              "      <td>0.798938</td>\n",
              "      <td>00:07</td>\n",
              "    </tr>\n",
              "    <tr>\n",
              "      <td>4</td>\n",
              "      <td>0.629576</td>\n",
              "      <td>0.490014</td>\n",
              "      <td>0.806525</td>\n",
              "      <td>00:07</td>\n",
              "    </tr>\n",
              "  </tbody>\n",
              "</table>"
            ],
            "text/plain": [
              "<IPython.core.display.HTML object>"
            ]
          },
          "metadata": {
            "tags": []
          }
        }
      ]
    },
    {
      "cell_type": "markdown",
      "metadata": {
        "id": "-l-gIMy3az2-",
        "colab_type": "text"
      },
      "source": [
        "Now, onto the gradual unfreezing!"
      ]
    },
    {
      "cell_type": "code",
      "metadata": {
        "id": "vlM9YSHha3Ug",
        "colab_type": "code",
        "colab": {
          "base_uri": "https://localhost:8080/",
          "height": 136
        },
        "outputId": "625e353e-21bb-4ebf-a32f-ef0b5d2fbf3f"
      },
      "source": [
        "# unfreeze next layer\n",
        "learn.freeze_to(-2)\n",
        "\n",
        "# train with next layer unfrozen, apply discriminative fine-tuning\n",
        "learn.fit_one_cycle(3,slice(5e-3/(2.6**4),5e-3))"
      ],
      "execution_count": 24,
      "outputs": [
        {
          "output_type": "display_data",
          "data": {
            "text/html": [
              "<table border=\"1\" class=\"dataframe\">\n",
              "  <thead>\n",
              "    <tr style=\"text-align: left;\">\n",
              "      <th>epoch</th>\n",
              "      <th>train_loss</th>\n",
              "      <th>valid_loss</th>\n",
              "      <th>accuracy</th>\n",
              "      <th>time</th>\n",
              "    </tr>\n",
              "  </thead>\n",
              "  <tbody>\n",
              "    <tr>\n",
              "      <td>0</td>\n",
              "      <td>0.596647</td>\n",
              "      <td>0.481887</td>\n",
              "      <td>0.812595</td>\n",
              "      <td>00:08</td>\n",
              "    </tr>\n",
              "    <tr>\n",
              "      <td>1</td>\n",
              "      <td>0.579514</td>\n",
              "      <td>0.471907</td>\n",
              "      <td>0.802731</td>\n",
              "      <td>00:08</td>\n",
              "    </tr>\n",
              "    <tr>\n",
              "      <td>2</td>\n",
              "      <td>0.551806</td>\n",
              "      <td>0.465008</td>\n",
              "      <td>0.811836</td>\n",
              "      <td>00:07</td>\n",
              "    </tr>\n",
              "  </tbody>\n",
              "</table>"
            ],
            "text/plain": [
              "<IPython.core.display.HTML object>"
            ]
          },
          "metadata": {
            "tags": []
          }
        }
      ]
    },
    {
      "cell_type": "code",
      "metadata": {
        "id": "1Kb4nnP3b2XO",
        "colab_type": "code",
        "colab": {
          "base_uri": "https://localhost:8080/",
          "height": 136
        },
        "outputId": "1025a727-e980-4459-c500-d32bb5645b51"
      },
      "source": [
        "# repeat the process\n",
        "learn.freeze_to(-3)\n",
        "learn.fit_one_cycle(3,slice(5e-3/(2.6**4),5e-3))"
      ],
      "execution_count": 25,
      "outputs": [
        {
          "output_type": "display_data",
          "data": {
            "text/html": [
              "<table border=\"1\" class=\"dataframe\">\n",
              "  <thead>\n",
              "    <tr style=\"text-align: left;\">\n",
              "      <th>epoch</th>\n",
              "      <th>train_loss</th>\n",
              "      <th>valid_loss</th>\n",
              "      <th>accuracy</th>\n",
              "      <th>time</th>\n",
              "    </tr>\n",
              "  </thead>\n",
              "  <tbody>\n",
              "    <tr>\n",
              "      <td>0</td>\n",
              "      <td>0.540589</td>\n",
              "      <td>0.451447</td>\n",
              "      <td>0.823596</td>\n",
              "      <td>00:14</td>\n",
              "    </tr>\n",
              "    <tr>\n",
              "      <td>1</td>\n",
              "      <td>0.526239</td>\n",
              "      <td>0.452390</td>\n",
              "      <td>0.821320</td>\n",
              "      <td>00:13</td>\n",
              "    </tr>\n",
              "    <tr>\n",
              "      <td>2</td>\n",
              "      <td>0.417204</td>\n",
              "      <td>0.438106</td>\n",
              "      <td>0.828528</td>\n",
              "      <td>00:12</td>\n",
              "    </tr>\n",
              "  </tbody>\n",
              "</table>"
            ],
            "text/plain": [
              "<IPython.core.display.HTML object>"
            ]
          },
          "metadata": {
            "tags": []
          }
        }
      ]
    },
    {
      "cell_type": "code",
      "metadata": {
        "id": "GfC6VY0Fct5E",
        "colab_type": "code",
        "colab": {
          "base_uri": "https://localhost:8080/",
          "height": 136
        },
        "outputId": "acc5f6c6-c905-4fe8-d694-a88c15afcbb7"
      },
      "source": [
        "# now unfreeze everything\n",
        "learn.unfreeze()\n",
        "learn.fit_one_cycle(3,slice(5e-3/(2.6**4),5e-3))"
      ],
      "execution_count": 26,
      "outputs": [
        {
          "output_type": "display_data",
          "data": {
            "text/html": [
              "<table border=\"1\" class=\"dataframe\">\n",
              "  <thead>\n",
              "    <tr style=\"text-align: left;\">\n",
              "      <th>epoch</th>\n",
              "      <th>train_loss</th>\n",
              "      <th>valid_loss</th>\n",
              "      <th>accuracy</th>\n",
              "      <th>time</th>\n",
              "    </tr>\n",
              "  </thead>\n",
              "  <tbody>\n",
              "    <tr>\n",
              "      <td>0</td>\n",
              "      <td>0.450030</td>\n",
              "      <td>0.454428</td>\n",
              "      <td>0.827011</td>\n",
              "      <td>00:18</td>\n",
              "    </tr>\n",
              "    <tr>\n",
              "      <td>1</td>\n",
              "      <td>0.353306</td>\n",
              "      <td>0.459165</td>\n",
              "      <td>0.834219</td>\n",
              "      <td>00:17</td>\n",
              "    </tr>\n",
              "    <tr>\n",
              "      <td>2</td>\n",
              "      <td>0.235857</td>\n",
              "      <td>0.503255</td>\n",
              "      <td>0.827769</td>\n",
              "      <td>00:17</td>\n",
              "    </tr>\n",
              "  </tbody>\n",
              "</table>"
            ],
            "text/plain": [
              "<IPython.core.display.HTML object>"
            ]
          },
          "metadata": {
            "tags": []
          }
        }
      ]
    },
    {
      "cell_type": "markdown",
      "metadata": {
        "id": "J4iajh9vUyfA",
        "colab_type": "text"
      },
      "source": [
        "Now that we've gone through the entire process of ULMFiT and understood what is going on, we can move onto the 'ULMFiT-results' notebook."
      ]
    },
    {
      "cell_type": "code",
      "metadata": {
        "id": "_UfzM9WjU88m",
        "colab_type": "code",
        "colab": {}
      },
      "source": [
        ""
      ],
      "execution_count": 0,
      "outputs": []
    }
  ]
}